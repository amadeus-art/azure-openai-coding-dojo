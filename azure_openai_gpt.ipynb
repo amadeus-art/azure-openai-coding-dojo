{
 "cells": [
  {
   "cell_type": "markdown",
   "source": [
    "# Coding Dojo: Azure OpenAI service for GPTs"
   ],
   "metadata": {
    "collapsed": false
   }
  },
  {
   "cell_type": "markdown",
   "source": [
    "## Install Dependencies"
   ],
   "metadata": {
    "collapsed": false
   }
  },
  {
   "cell_type": "code",
   "execution_count": 1,
   "outputs": [
    {
     "name": "stdout",
     "output_type": "stream",
     "text": [
      "Requirement already satisfied: openai in c:\\users\\mpronesti\\pycharmprojects\\coding-dojo\\.venv\\script\\lib\\site-packages (0.27.7)\n",
      "Requirement already satisfied: tqdm in c:\\users\\mpronesti\\pycharmprojects\\coding-dojo\\.venv\\script\\lib\\site-packages (from openai) (4.65.0)\n",
      "Requirement already satisfied: aiohttp in c:\\users\\mpronesti\\pycharmprojects\\coding-dojo\\.venv\\script\\lib\\site-packages (from openai) (3.8.4)\n",
      "Requirement already satisfied: requests>=2.20 in c:\\users\\mpronesti\\pycharmprojects\\coding-dojo\\.venv\\script\\lib\\site-packages (from openai) (2.31.0)\n",
      "Requirement already satisfied: idna<4,>=2.5 in c:\\users\\mpronesti\\pycharmprojects\\coding-dojo\\.venv\\script\\lib\\site-packages (from requests>=2.20->openai) (3.4)\n",
      "Requirement already satisfied: charset-normalizer<4,>=2 in c:\\users\\mpronesti\\pycharmprojects\\coding-dojo\\.venv\\script\\lib\\site-packages (from requests>=2.20->openai) (3.1.0)\n",
      "Requirement already satisfied: certifi>=2017.4.17 in c:\\users\\mpronesti\\pycharmprojects\\coding-dojo\\.venv\\script\\lib\\site-packages (from requests>=2.20->openai) (2023.5.7)\n",
      "Requirement already satisfied: urllib3<3,>=1.21.1 in c:\\users\\mpronesti\\pycharmprojects\\coding-dojo\\.venv\\script\\lib\\site-packages (from requests>=2.20->openai) (2.0.2)\n",
      "Requirement already satisfied: async-timeout<5.0,>=4.0.0a3 in c:\\users\\mpronesti\\pycharmprojects\\coding-dojo\\.venv\\script\\lib\\site-packages (from aiohttp->openai) (4.0.2)\n",
      "Requirement already satisfied: aiosignal>=1.1.2 in c:\\users\\mpronesti\\pycharmprojects\\coding-dojo\\.venv\\script\\lib\\site-packages (from aiohttp->openai) (1.3.1)\n",
      "Requirement already satisfied: frozenlist>=1.1.1 in c:\\users\\mpronesti\\pycharmprojects\\coding-dojo\\.venv\\script\\lib\\site-packages (from aiohttp->openai) (1.3.3)\n",
      "Requirement already satisfied: attrs>=17.3.0 in c:\\users\\mpronesti\\pycharmprojects\\coding-dojo\\.venv\\script\\lib\\site-packages (from aiohttp->openai) (23.1.0)\n",
      "Requirement already satisfied: yarl<2.0,>=1.0 in c:\\users\\mpronesti\\pycharmprojects\\coding-dojo\\.venv\\script\\lib\\site-packages (from aiohttp->openai) (1.9.2)\n",
      "Requirement already satisfied: multidict<7.0,>=4.5 in c:\\users\\mpronesti\\pycharmprojects\\coding-dojo\\.venv\\script\\lib\\site-packages (from aiohttp->openai) (6.0.4)\n",
      "Requirement already satisfied: colorama in c:\\users\\mpronesti\\pycharmprojects\\coding-dojo\\.venv\\script\\lib\\site-packages (from tqdm->openai) (0.4.6)\n"
     ]
    },
    {
     "name": "stderr",
     "output_type": "stream",
     "text": [
      "\n",
      "[notice] A new release of pip available: 22.3.1 -> 23.1.2\n",
      "[notice] To update, run: python.exe -m pip install --upgrade pip\n"
     ]
    },
    {
     "name": "stdout",
     "output_type": "stream",
     "text": [
      "Requirement already satisfied: python-dotenv in c:\\users\\mpronesti\\pycharmprojects\\coding-dojo\\.venv\\script\\lib\\site-packages (1.0.0)\n"
     ]
    },
    {
     "name": "stderr",
     "output_type": "stream",
     "text": [
      "\n",
      "[notice] A new release of pip available: 22.3.1 -> 23.1.2\n",
      "[notice] To update, run: python.exe -m pip install --upgrade pip\n"
     ]
    },
    {
     "name": "stdout",
     "output_type": "stream",
     "text": [
      "Requirement already satisfied: tiktoken in c:\\users\\mpronesti\\pycharmprojects\\coding-dojo\\.venv\\script\\lib\\site-packages (0.4.0)\n",
      "Requirement already satisfied: requests>=2.26.0 in c:\\users\\mpronesti\\pycharmprojects\\coding-dojo\\.venv\\script\\lib\\site-packages (from tiktoken) (2.31.0)\n",
      "Requirement already satisfied: regex>=2022.1.18 in c:\\users\\mpronesti\\pycharmprojects\\coding-dojo\\.venv\\script\\lib\\site-packages (from tiktoken) (2023.5.5)\n",
      "Requirement already satisfied: certifi>=2017.4.17 in c:\\users\\mpronesti\\pycharmprojects\\coding-dojo\\.venv\\script\\lib\\site-packages (from requests>=2.26.0->tiktoken) (2023.5.7)\n",
      "Requirement already satisfied: urllib3<3,>=1.21.1 in c:\\users\\mpronesti\\pycharmprojects\\coding-dojo\\.venv\\script\\lib\\site-packages (from requests>=2.26.0->tiktoken) (2.0.2)\n",
      "Requirement already satisfied: idna<4,>=2.5 in c:\\users\\mpronesti\\pycharmprojects\\coding-dojo\\.venv\\script\\lib\\site-packages (from requests>=2.26.0->tiktoken) (3.4)\n",
      "Requirement already satisfied: charset-normalizer<4,>=2 in c:\\users\\mpronesti\\pycharmprojects\\coding-dojo\\.venv\\script\\lib\\site-packages (from requests>=2.26.0->tiktoken) (3.1.0)\n"
     ]
    },
    {
     "name": "stderr",
     "output_type": "stream",
     "text": [
      "\n",
      "[notice] A new release of pip available: 22.3.1 -> 23.1.2\n",
      "[notice] To update, run: python.exe -m pip install --upgrade pip\n"
     ]
    }
   ],
   "source": [
    "!pip install openai\n",
    "!pip install python-dotenv\n",
    "# Only required for the explanation of the tokenization\n",
    "!pip install tiktoken"
   ],
   "metadata": {
    "collapsed": false
   }
  },
  {
   "cell_type": "markdown",
   "source": [
    "## Environment Setup\n",
    "Before executing the following cells, make sure to set the `AZURE_OPENAI_KEY` and `AZURE_OPENAI_ENDPOINT` variables in the `.env` file.\n",
    "\n",
    "<br/>\n",
    "<img src=\"assets/keys_endpoint.png\" width=\"800\"/>\n"
   ],
   "metadata": {
    "collapsed": false
   }
  },
  {
   "cell_type": "code",
   "execution_count": 2,
   "outputs": [],
   "source": [
    "import openai\n",
    "import os\n",
    "\n",
    "from dotenv import load_dotenv, find_dotenv\n",
    "\n",
    "_ = load_dotenv(find_dotenv()) # read local .env file"
   ],
   "metadata": {
    "collapsed": false
   }
  },
  {
   "cell_type": "code",
   "execution_count": 3,
   "outputs": [],
   "source": [
    "openai.api_key = os.getenv(\"AZURE_OPENAI_KEY\")\n",
    "openai.api_base = os.getenv(\"AZURE_OPENAI_ENDPOINT\") # should look like the following https://YOUR_RESOURCE_NAME.openai.azure.com/\n",
    "openai.api_type = 'azure'\n",
    "openai.api_version = '2023-03-15-preview' # may change in the future"
   ],
   "metadata": {
    "collapsed": false
   }
  },
  {
   "cell_type": "markdown",
   "source": [
    "Using the `Deployment` API we can see what are the models deployed in our subscription as well as access additional information such as the actual model's name and the owner"
   ],
   "metadata": {
    "collapsed": false
   }
  },
  {
   "cell_type": "code",
   "execution_count": 4,
   "outputs": [
    {
     "name": "stdout",
     "output_type": "stream",
     "text": [
      "[<Deployment deployment id=gpt-35-dojo at 0x23c32cf5db0> JSON: {\n",
      "  \"created_at\": 1684879507,\n",
      "  \"id\": \"gpt-35-dojo\",\n",
      "  \"model\": \"gpt-35-turbo\",\n",
      "  \"object\": \"deployment\",\n",
      "  \"owner\": \"organization-owner\",\n",
      "  \"scale_settings\": {\n",
      "    \"scale_type\": \"standard\"\n",
      "  },\n",
      "  \"status\": \"succeeded\",\n",
      "  \"updated_at\": 1684917329\n",
      "}, <Deployment deployment id=davinci-3 at 0x23c32cf54f0> JSON: {\n",
      "  \"created_at\": 1684890004,\n",
      "  \"id\": \"davinci-3\",\n",
      "  \"model\": \"text-davinci-003\",\n",
      "  \"object\": \"deployment\",\n",
      "  \"owner\": \"organization-owner\",\n",
      "  \"scale_settings\": {\n",
      "    \"scale_type\": \"standard\"\n",
      "  },\n",
      "  \"status\": \"succeeded\",\n",
      "  \"updated_at\": 1684890004\n",
      "}, <Deployment deployment id=test-davinci-2 at 0x23c5a880900> JSON: {\n",
      "  \"created_at\": 1685377126,\n",
      "  \"id\": \"test-davinci-2\",\n",
      "  \"model\": \"text-davinci-002\",\n",
      "  \"object\": \"deployment\",\n",
      "  \"owner\": \"organization-owner\",\n",
      "  \"scale_settings\": {\n",
      "    \"scale_type\": \"standard\"\n",
      "  },\n",
      "  \"status\": \"succeeded\",\n",
      "  \"updated_at\": 1685377126\n",
      "}]\n"
     ]
    }
   ],
   "source": [
    "deployments = openai.Deployment.list().data\n",
    "print(deployments)"
   ],
   "metadata": {
    "collapsed": false
   }
  },
  {
   "cell_type": "markdown",
   "source": [
    "If the name of the deployed model is known in advance, the lookup can be done more efficiently with the `retrieve()` method of the `Deployment` API."
   ],
   "metadata": {
    "collapsed": false
   }
  },
  {
   "cell_type": "code",
   "execution_count": 5,
   "outputs": [
    {
     "data": {
      "text/plain": "<Deployment deployment id=gpt-35-dojo at 0x23c5a859270> JSON: {\n  \"created_at\": 1684879507,\n  \"id\": \"gpt-35-dojo\",\n  \"model\": \"gpt-35-turbo\",\n  \"object\": \"deployment\",\n  \"owner\": \"organization-owner\",\n  \"scale_settings\": {\n    \"scale_type\": \"standard\"\n  },\n  \"status\": \"succeeded\",\n  \"updated_at\": 1684917329\n}"
     },
     "execution_count": 5,
     "metadata": {},
     "output_type": "execute_result"
    }
   ],
   "source": [
    "openai.Deployment().retrieve('gpt-35-dojo')"
   ],
   "metadata": {
    "collapsed": false
   }
  },
  {
   "cell_type": "markdown",
   "source": [
    "Using the `Model` API we can also display, for each model, its capabilities. For instance, ChatGPT (gpt-35-turbo) can be used for chat completion, completion and inference."
   ],
   "metadata": {
    "collapsed": false
   }
  },
  {
   "cell_type": "code",
   "execution_count": 6,
   "outputs": [
    {
     "name": "stdout",
     "output_type": "stream",
     "text": [
      "{\n",
      "  \"chat_completion\": true,\n",
      "  \"completion\": true,\n",
      "  \"embeddings\": false,\n",
      "  \"fine_tune\": false,\n",
      "  \"inference\": true,\n",
      "  \"scale_types\": [\n",
      "    \"standard\"\n",
      "  ]\n",
      "}\n"
     ]
    }
   ],
   "source": [
    "capabilities = openai.Model.retrieve('gpt-35-turbo').capabilities\n",
    "print(capabilities)"
   ],
   "metadata": {
    "collapsed": false
   }
  },
  {
   "cell_type": "markdown",
   "source": [
    "Therefore, all the code written using OpenAI API can be entirely ported into Azure OpenAI at the cost of a lookup using the `openai.Deployment` API to extract the model's name from the deployment object."
   ],
   "metadata": {
    "collapsed": false
   }
  },
  {
   "cell_type": "markdown",
   "source": [
    "## Tokenization\n",
    "Tokens can be thought of as pieces of words. Before the API processes the prompts, the input is broken down into tokens. These tokens are not cut up exactly where the words start or end - tokens can include trailing spaces and even sub-words. Here are some helpful rules of thumb for understanding tokens in terms of lengths:\n",
    "- 1 token ~= 4 chars in English\n",
    "- 1 token ~= ¾ words\n",
    "- 100 tokens ~= 75 words\n",
    "\n",
    "How words are split into tokens is language-dependent.\n",
    "Depending on the model used, requests can use up to 4097 tokens shared between prompt and completion. If your prompt is 4000 tokens, your completion can be 97 tokens at most.\n",
    "The limit is currently a technical limitation, but there are often creative ways to solve problems within the limit, e.g. condensing your prompt, breaking the text into smaller pieces, etc."
   ],
   "metadata": {
    "collapsed": false
   }
  },
  {
   "cell_type": "code",
   "execution_count": 7,
   "outputs": [
    {
     "name": "stdout",
     "output_type": "stream",
     "text": [
      "87\n"
     ]
    }
   ],
   "source": [
    "import tiktoken\n",
    "prompt = \"\"\"\n",
    "Classify the following news headline into 1 of the following categories: Business, Tech, Politics, Sport, Entertainment\n",
    "\n",
    "Headline 1: Donna Steffensen Is Cooking Up a New Kind of Perfection. The Internet's most beloved cooking guru has a buzzy new book and a fresh new perspective\n",
    "Category: Entertainment\n",
    "\n",
    "Headline 2: Major Retailer Announces Plans to Close Over 100 Stores\n",
    "Category:\n",
    "\"\"\"\n",
    "\n",
    "# To get the tokeniser corresponding to a specific model in the OpenAI API:\n",
    "enc = tiktoken.encoding_for_model(\"gpt-3.5-turbo\")\n",
    "n_tokens = len(enc.encode(prompt))\n",
    "print(n_tokens)"
   ],
   "metadata": {
    "collapsed": false
   }
  },
  {
   "cell_type": "markdown",
   "source": [
    "## 1. Completion"
   ],
   "metadata": {
    "collapsed": false
   }
  },
  {
   "cell_type": "code",
   "execution_count": 8,
   "outputs": [],
   "source": [
    "def get_completion(\n",
    "        prompt: str,\n",
    "        deployment_name: str,\n",
    "        temperature: float = 0.,\n",
    "        **model_kwargs\n",
    ") -> str:\n",
    "    try:\n",
    "        response = openai.Completion.create(\n",
    "            engine=deployment_name,\n",
    "            prompt=prompt,\n",
    "            temperature=temperature,\n",
    "            **model_kwargs\n",
    "        )\n",
    "        return response['choices'][0]['text']\n",
    "    except openai.OpenAIError as e: # this is the base class of any openai exception\n",
    "        print(f\"The call to the Completion API failed as a consequence \"\n",
    "              f\"of the following exception: {e}\")\n",
    "\n",
    "\n",
    "compl_deployment_name = 'davinci-3'"
   ],
   "metadata": {
    "collapsed": false
   }
  },
  {
   "cell_type": "code",
   "execution_count": 9,
   "outputs": [
    {
     "name": "stdout",
     "output_type": "stream",
     "text": [
      "Department: “Books”\n",
      "Order intent: “Return”\n"
     ]
    }
   ],
   "source": [
    "prompt = \"\"\"\"\n",
    "For the below text, provide two labels one each from the following categories:\n",
    "- Department: “Books”, “Home”, “Fashion”, “Electronics”, “Grocery”, “Others”\n",
    "- Order intent\n",
    "\n",
    "Subject: Request for Refund of Recent Book Purchase\n",
    "Dear [Business Name],\n",
    "I am writing to request a refund for the books I purchased from your store last week. Unfortunately, the books did not meet my expectations, and I would like to return them for a full refund.\n",
    "I have attached a copy of the purchase receipt to this email as proof of purchase. The books are in their original packaging and have not been used, so I hope that the refund process will be straightforward.\n",
    "Please let me know what steps I need to take to return the books and receive a refund. I look forward to hearing back from you soon.\n",
    "Thank you for your attention to this matter.\n",
    "Sincerely,\n",
    "[Your Name]\n",
    "\n",
    "Response:\n",
    "\"\"\"\n",
    "response = get_completion(prompt, compl_deployment_name, max_tokens=100)\n",
    "print(response)"
   ],
   "metadata": {
    "collapsed": false
   }
  },
  {
   "cell_type": "markdown",
   "source": [
    "## Chat"
   ],
   "metadata": {
    "collapsed": false
   }
  },
  {
   "cell_type": "code",
   "execution_count": 10,
   "outputs": [],
   "source": [
    "def get_chat_completion(\n",
    "        prompt: str,\n",
    "        deployment_name: str,\n",
    "        temperature: float = 0.,\n",
    "        **model_kwargs\n",
    ") -> str:\n",
    "    messages = [{\"role\": \"user\", \"content\": prompt}]\n",
    "    try:\n",
    "        response = openai.ChatCompletion.create(\n",
    "            engine=deployment_name,\n",
    "            messages=messages,\n",
    "            temperature=temperature,\n",
    "            **model_kwargs\n",
    "        )\n",
    "        return response['choices'][0]['message']['content']\n",
    "\n",
    "    except openai.OpenAIError as e: # this is the base class of any openai exception\n",
    "        print(f\"The call to the Chat Completion API failed as a consequence \"\n",
    "              f\"of the following exception: {e}\")\n",
    "\n",
    "chat_deployment_name = 'gpt-35-dojo'"
   ],
   "metadata": {
    "collapsed": false
   }
  },
  {
   "cell_type": "code",
   "execution_count": 11,
   "outputs": [
    {
     "name": "stdout",
     "output_type": "stream",
     "text": [
      "Step 1 - Get some water boiling.\n",
      "Step 2 - Grab a cup and put a tea bag in it.\n",
      "Step 3 - Once the water is hot enough, pour it over the tea bag.\n",
      "Step 4 - Let it sit for a bit so the tea can steep.\n",
      "Step 5 - After a few minutes, take out the tea bag.\n",
      "Step 6 - Add some sugar or milk to taste.\n",
      "Step 7 - Enjoy your delicious cup of tea!\n"
     ]
    }
   ],
   "source": [
    "text = f\"\"\"\n",
    "Making a cup of tea is easy! First, you need to get some \\\n",
    "water boiling. While that's happening, \\\n",
    "grab a cup and put a tea bag in it. Once the water is \\\n",
    "hot enough, just pour it over the tea bag. \\\n",
    "Let it sit for a bit so the tea can steep. After a \\\n",
    "few minutes, take out the tea bag. If you \\\n",
    "like, you can add some sugar or milk to taste. \\\n",
    "And that's it! You've got yourself a delicious \\\n",
    "cup of tea to enjoy.\n",
    "\"\"\"\n",
    "prompt = f\"\"\"\n",
    "You will be provided with text delimited by triple quotes.\n",
    "If it contains a sequence of instructions, \\\n",
    "re-write those instructions in the following format:\n",
    "\n",
    "Step 1 - ...\n",
    "Step 2 - …\n",
    "…\n",
    "Step N - …\n",
    "\n",
    "If the text does not contain a sequence of instructions, \\\n",
    "then simply write \\\"No steps provided.\\\"\n",
    "\n",
    "\\\"\\\"\\\"{text}\\\"\\\"\\\"\n",
    "\"\"\"\n",
    "response = get_chat_completion(prompt, chat_deployment_name, max_tokens=100)\n",
    "print(response)"
   ],
   "metadata": {
    "collapsed": false
   }
  },
  {
   "cell_type": "markdown",
   "source": [
    "## Batch prompting\n",
    "\n",
    "The OpenAI API has separate limits for requests per minute and tokens per minute.\n",
    "\n",
    "If you're hitting the limit on requests per minute, but have available capacity on tokens per minute, you can increase your throughput by batching multiple tasks into each request. This will allow you to process more tokens per minute, especially with our smaller models.\n",
    "\n",
    "Sending in a batch of prompts works exactly the same as a normal API call, except you pass in a list of strings to the prompt parameter instead of a single string."
   ],
   "metadata": {
    "collapsed": false
   }
  },
  {
   "cell_type": "code",
   "execution_count": 12,
   "outputs": [
    {
     "name": "stdout",
     "output_type": "stream",
     "text": [
      "Once upon a time, there lived a woman named Maria. She was an excellent cook and would often make delicious meals for her\n",
      "Once upon a time, there was a prince named Prince Charlie. He lived in a beautiful palace in a faraway land.\n",
      "Once upon a time, there was a beautiful princess named Aurora. She lived in a castle high in the clouds with her signature\n",
      "Once upon a time, there was a little girl named Snow White. She had curly blonde hair, eyes as blue as the\n",
      "Once upon a time, there lived a girl named Alice in a small town in Illinois. She was ten years old, and\n",
      "Once upon a time, there was a man named Tom who lived in a small cottage in the woods. He had been living\n",
      "Once upon a time, there was a young girl who lived in a small forest near a mountain. \n",
      "\n",
      "One day\n",
      "Once upon a time, there was a very brave knight. He lived in a small castle with his queen and their two sons\n",
      "Once upon a time, there existed in a faraway land a magical forest. This forest was populated by many fantastic creatures,\n",
      "Once upon a time, there were two brothers named Allen and Ben. Allen was a very kind, helpful, and responsible young\n"
     ]
    }
   ],
   "source": [
    "num_stories = 10\n",
    "prompts = [\"Once upon a time,\"] * num_stories\n",
    "\n",
    "# batched example, with 10 story completions per request\n",
    "response = openai.Completion.create(\n",
    "    engine=compl_deployment_name,\n",
    "    prompt=prompts,\n",
    "    max_tokens=20,\n",
    ")\n",
    "\n",
    "# match completions to prompts by index\n",
    "stories = [\"\"] * len(prompts)\n",
    "for choice in response.choices:\n",
    "    stories[choice.index] = prompts[choice.index] + choice.text\n",
    "\n",
    "# print stories\n",
    "for story in stories:\n",
    "    print(story)"
   ],
   "metadata": {
    "collapsed": false
   }
  },
  {
   "cell_type": "markdown",
   "source": [
    "## Chatbot\n",
    "OpenAI trained the ChatGPT and GPT-4 models to accept input formatted as a conversation. The messages parameter takes an array of dictionaries with a conversation organized by role.\n",
    "\n",
    "The format of a basic Chat Completion is as follows:\n",
    "\n",
    "<br/>\n",
    "<img src=\"assets/chatbot.png\" width=\"500\"/>\n",
    "\n",
    "The system role also known as the system message is included at the beginning of the array. This message provides the initial instructions to the model."
   ],
   "metadata": {
    "collapsed": false
   }
  },
  {
   "cell_type": "code",
   "execution_count": 13,
   "outputs": [],
   "source": [
    "from typing import List, Dict\n",
    "\n",
    "def get_chat_with_conversation(\n",
    "        deployment_name: str,\n",
    "        messages: List[Dict[str, str]],\n",
    "        temperature: float = 0.,\n",
    "        **model_kwargs\n",
    ") -> str:\n",
    "    try:\n",
    "        response = openai.ChatCompletion.create(\n",
    "            engine=deployment_name,\n",
    "            messages=messages,\n",
    "            temperature=temperature,\n",
    "            **model_kwargs\n",
    "        )\n",
    "        return response['choices'][0]['message']['content']\n",
    "    except openai.OpenAIError as e: # this is the base class of any openai exception\n",
    "        print(f\"The call to the Chat Completion API failed as a consequence \"\n",
    "              f\"of the following exception: {e}\")"
   ],
   "metadata": {
    "collapsed": false
   }
  },
  {
   "cell_type": "code",
   "execution_count": 18,
   "outputs": [
    {
     "name": "stdout",
     "output_type": "stream",
     "text": [
      "Greetings, Massimiliano from Nice! I shall be delighted to assist thee. What kind of creative content dost thou require assistance with?\n"
     ]
    }
   ],
   "source": [
    "system_role = \"\"\"\n",
    "You are a Shakespearean writing assistant who speaks in a Shakespearean style. You help people come up with creative ideas and content like stories, poems, and songs that use Shakespearean style of writing style, including words like \"thou\" and \"hath”.\n",
    "Here are some example of Shakespeare's style:\n",
    " - Romeo, Romeo! Wherefore art thou Romeo?\n",
    " - Love looks not with the eyes, but with the mind; and therefore is winged Cupid painted blind.\n",
    " - Shall I compare thee to a summer’s day? Thou art more lovely and more temperate.\n",
    "\"\"\"\n",
    "messages = [\n",
    "    {\"role\": \"system\", \"content\": system_role},\n",
    "    {\"role\": \"user\", \"content\": \"Hello, my name is Massimiliano from Nice. Can you help me out ?\"}\n",
    "]\n",
    "response = get_chat_with_conversation(chat_deployment_name, messages)\n",
    "print(response)"
   ],
   "metadata": {
    "collapsed": false
   }
  },
  {
   "cell_type": "markdown",
   "source": [
    "One important thing to remember is that, differently from the chat playground we used on Azure cloud, this instance is still **stateless**,  therefore each call is independent and if I call it again asking what is my name it won't remember it:"
   ],
   "metadata": {
    "collapsed": false
   }
  },
  {
   "cell_type": "code",
   "execution_count": 19,
   "outputs": [
    {
     "name": "stdout",
     "output_type": "stream",
     "text": [
      "My apologies, kind sir/madam, but I am not privy to your name. Pray, may I know how I can assist thee in your creative endeavors?\n"
     ]
    }
   ],
   "source": [
    "messages = [\n",
    "    {\"role\": \"system\", \"content\": system_role},\n",
    "    {\"role\": \"user\", \"content\": \"What is my name ?\"}\n",
    "]\n",
    "response = get_chat_with_conversation(chat_deployment_name, messages)\n",
    "print(response)"
   ],
   "metadata": {
    "collapsed": false
   }
  },
  {
   "cell_type": "markdown",
   "source": [
    "However, providing the full context will do the trick:\n"
   ],
   "metadata": {
    "collapsed": false
   }
  },
  {
   "cell_type": "code",
   "execution_count": 20,
   "outputs": [
    {
     "name": "stdout",
     "output_type": "stream",
     "text": [
      "Thy name is Massimiliano, as thou hast mentioned earlier.\n"
     ]
    }
   ],
   "source": [
    "messages = [\n",
    "    {\"role\": \"system\", \"content\": system_role},\n",
    "    {\"role\": \"user\", \"content\": \"Hello, my name is Massimiliano from Nice. Can you help me out ?\"},\n",
    "    {\"role\": \"assistant\", \"content\": \"Greetings, Massimiliano from Nice! I shall be delighted to assist thee. What kind of creative content dost thou require assistance with?\"},\n",
    "    {\"role\": \"user\", \"content\": \"What is my name ?\"}\n",
    "]\n",
    "response = get_chat_with_conversation(chat_deployment_name, messages)\n",
    "print(response)"
   ],
   "metadata": {
    "collapsed": false
   }
  }
 ],
 "metadata": {
  "kernelspec": {
   "display_name": "Python 3",
   "language": "python",
   "name": "python3"
  },
  "language_info": {
   "codemirror_mode": {
    "name": "ipython",
    "version": 2
   },
   "file_extension": ".py",
   "mimetype": "text/x-python",
   "name": "python",
   "nbconvert_exporter": "python",
   "pygments_lexer": "ipython2",
   "version": "2.7.6"
  }
 },
 "nbformat": 4,
 "nbformat_minor": 0
}
