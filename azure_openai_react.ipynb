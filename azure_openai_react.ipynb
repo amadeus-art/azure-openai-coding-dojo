{
 "cells": [
  {
   "cell_type": "markdown",
   "source": [
    "<a href=\"https://colab.research.google.com/github/amadeus-art/azure-openai-coding-dojo/blob/main/azure_openai_react.ipynb\" target=\"_parent\"><img src=\"https://colab.research.google.com/assets/colab-badge.svg\" alt=\"Open In Colab\"/></a>\n",
    "\n",
    "# Reasoning + Act: make GPT interact with tools"
   ],
   "metadata": {
    "collapsed": false
   }
  },
  {
   "cell_type": "markdown",
   "source": [
    "## Install Depedencies"
   ],
   "metadata": {
    "collapsed": false
   }
  },
  {
   "cell_type": "code",
   "execution_count": 3,
   "outputs": [],
   "source": [
    "!pip install openai langchain python-dotenv -q\n",
    "# for serpapi\n",
    "!pip install google-search-results -q\n",
    "# needed to \"escape\" SSL inside corporate network\n",
    "!pip install pip-system-certs -q"
   ],
   "metadata": {
    "collapsed": false
   }
  },
  {
   "cell_type": "markdown",
   "source": [
    "## Environment Setup\n",
    "Before executing the following cells, make sure to set the `AZURE_OPENAI_KEY` and `AZURE_OPENAI_ENDPOINT` variables in the `.env` file or export them.\n",
    "\n",
    "<br/>\n",
    "<img src=\"assets/keys_endpoint.png\" width=\"800\"/>\n",
    "<br/>\n",
    "\n",
    "In addition, for this notebook we will use Google Search API, which requires an API Key that you can have for free registering with you google email here (100 searches/month): https://serpapi.com\n",
    "\n",
    "Once you have it, set the `SERPAPI_API_KEY` variable in the `.env` file or export it."
   ],
   "metadata": {
    "collapsed": false
   }
  },
  {
   "cell_type": "code",
   "execution_count": 4,
   "outputs": [],
   "source": [
    "import os\n",
    "import openai\n",
    "from dotenv import load_dotenv, find_dotenv\n",
    "\n",
    "_ = load_dotenv(find_dotenv()) # read local .env file"
   ],
   "metadata": {
    "collapsed": false
   }
  },
  {
   "cell_type": "code",
   "execution_count": 5,
   "outputs": [],
   "source": [
    "openai_api_key = os.getenv(\"AZURE_OPENAI_KEY\")\n",
    "openai_api_base = os.getenv(\"AZURE_OPENAI_ENDPOINT\") # should look like the following # https://YOUR_RESOURCE_NAME.openai.azure.com/\n",
    "openai_api_type = 'azure'\n",
    "openai_api_version = '2023-07-01-preview' # latest as per today (15-09-2023), may change in the future\n",
    "\n",
    "# this is the name of the deployments you created in the Azure portal within the above resource\n",
    "deployment_name = os.getenv(\"MODEL_DEPLOYMENT_NAME\")\n",
    "\n",
    "serpapi_api_key = os.getenv('SERP_API_KEY')"
   ],
   "metadata": {
    "collapsed": false
   }
  },
  {
   "cell_type": "code",
   "execution_count": 6,
   "outputs": [],
   "source": [
    "from langchain.agents import (\n",
    "    load_tools,\n",
    "    initialize_agent,\n",
    "    AgentType\n",
    ")\n",
    "\n",
    "from langchain.chat_models import AzureChatOpenAI\n",
    "\n",
    "llm = AzureChatOpenAI(\n",
    "    openai_api_key=openai_api_key,\n",
    "    openai_api_base=openai_api_base,\n",
    "    openai_api_version=openai_api_version,\n",
    "    deployment_name=deployment_name,\n",
    "    temperature=0\n",
    ")"
   ],
   "metadata": {
    "collapsed": false
   }
  },
  {
   "cell_type": "code",
   "execution_count": 132,
   "outputs": [],
   "source": [
    "tools = load_tools([\n",
    "    \"serpapi\",\n",
    "    \"llm-math\",\n",
    "    ],\n",
    "    llm=llm,\n",
    "    serpapi_api_key=serpapi_api_key\n",
    ")\n",
    "\n",
    "agent = initialize_agent(\n",
    "    tools,\n",
    "    llm,\n",
    "    agent=AgentType.ZERO_SHOT_REACT_DESCRIPTION,\n",
    "    verbose=True\n",
    ")"
   ],
   "metadata": {
    "collapsed": false
   }
  },
  {
   "cell_type": "code",
   "execution_count": 80,
   "outputs": [
    {
     "name": "stdout",
     "output_type": "stream",
     "text": [
      "Answer the following questions as best you can. You have access to the following tools:\n",
      "\n",
      "Search: A search engine. Useful for when you need to answer questions about current events. Input should be a search query.\n",
      "Calculator: Useful for when you need to answer questions about math.\n",
      "\n",
      "Use the following format:\n",
      "\n",
      "Question: the input question you must answer\n",
      "Thought: you should always think about what to do\n",
      "Action: the action to take, should be one of [Search, Calculator]\n",
      "Action Input: the input to the action\n",
      "Observation: the result of the action\n",
      "... (this Thought/Action/Action Input/Observation can repeat N times)\n",
      "Thought: I now know the final answer\n",
      "Final Answer: the final answer to the original input question\n",
      "\n",
      "Begin!\n",
      "\n",
      "Question: {input}\n",
      "Thought:{agent_scratchpad}\n"
     ]
    }
   ],
   "source": [
    "print(agent.agent.llm_chain.prompt.template)"
   ],
   "metadata": {
    "collapsed": false
   }
  },
  {
   "cell_type": "code",
   "execution_count": 81,
   "outputs": [
    {
     "name": "stdout",
     "output_type": "stream",
     "text": [
      "\n",
      "\n",
      "\u001B[1m> Entering new AgentExecutor chain...\u001B[0m\n",
      "\u001B[32;1m\u001B[1;3mI should use a search engine to find the current net worth of Amadeus IT Group and then use a calculator to raise it to the power of 0.678.\n",
      "Action 1: Search\n",
      "Action Input: \"Amadeus IT Group net worth 2022\"\u001B[0m\n",
      "Observation: \u001B[36;1m\u001B[1;3m{'type': 'organic_result', 'title': 'End of year Market Cap', 'source': 'Companies Market Cap'}\u001B[0m\n",
      "Thought:\u001B[32;1m\u001B[1;3mI need to click on the source to find the information I need.\n",
      "Action 2: Search\n",
      "Action Input: \"Companies Market Cap Amadeus IT Group\"\u001B[0m\n",
      "Observation: \u001B[36;1m\u001B[1;3m{'type': 'finance_results', 'title': 'Amadeus IT Group ADR', 'exchange': 'OTCMKTS', 'stock': ' AMADY', 'currency': 'USD', 'price': 66.85, 'previous_close': 66.7}\u001B[0m\n",
      "Thought:\u001B[32;1m\u001B[1;3mI need to use the current market cap to calculate the net worth and then raise it to the power of 0.678 using a calculator.\n",
      "Action 3: Calculator\n",
      "Action Input: (66.85 * 1.5 billion) ** 0.678\u001B[0m\n",
      "Observation: \u001B[33;1m\u001B[1;3mAnswer: 28761307.854366243\u001B[0m\n",
      "Thought:\u001B[32;1m\u001B[1;3mI now know the final answer.\n",
      "Final Answer: Amadeus IT Group's net worth in 2022, raised to the power of 0.678, is approximately 28,761,307.85.\u001B[0m\n",
      "\n",
      "\u001B[1m> Finished chain.\u001B[0m\n"
     ]
    },
    {
     "data": {
      "text/plain": "\"Amadeus IT Group's net worth in 2022, raised to the power of 0.678, is approximately 28,761,307.85.\""
     },
     "execution_count": 81,
     "metadata": {},
     "output_type": "execute_result"
    }
   ],
   "source": [
    "# run the agent\n",
    "agent.run(\"How much is Amadeus IT Group net worth in 2022, raised to the power of 0.678?\")"
   ],
   "metadata": {
    "collapsed": false
   }
  },
  {
   "cell_type": "markdown",
   "source": [
    "## Define your own tool"
   ],
   "metadata": {
    "collapsed": false
   }
  },
  {
   "cell_type": "code",
   "execution_count": 153,
   "outputs": [
    {
     "name": "stdout",
     "output_type": "stream",
     "text": [
      "\n",
      "\n",
      "\u001B[1m> Entering new AgentExecutor chain...\u001B[0m\n",
      "\u001B[32;1m\u001B[1;3mI need to know today's date.\n",
      "Action: Time\n",
      "Action Input: \"\"\u001B[0m\n",
      "Observation: \u001B[38;5;200m\u001B[1;3m2023-09-18\u001B[0m\n",
      "Thought:\u001B[32;1m\u001B[1;3mI have the current date.\n",
      "Final Answer: Today's date is September 18th, 2023.\u001B[0m\n",
      "\n",
      "\u001B[1m> Finished chain.\u001B[0m\n"
     ]
    },
    {
     "data": {
      "text/plain": "\"Today's date is September 18th, 2023.\""
     },
     "execution_count": 153,
     "metadata": {},
     "output_type": "execute_result"
    }
   ],
   "source": [
    "from datetime import date\n",
    "from langchain.tools import BaseTool\n",
    "\n",
    "\n",
    "from typing import Any\n",
    "\n",
    "class Time(BaseTool):\n",
    "    name = \"Time\"\n",
    "    description = \"\"\"Returns today's date, use this for any \\\n",
    "questions related to knowing todays date. \\\n",
    "The input should always be an empty string, \\\n",
    "and this function will always return todays \\\n",
    "date - any date mathmatics should occur \\\n",
    "outside this function.\"\"\"\n",
    "\n",
    "    def _run(self,text: str) -> Any:\n",
    "        return str(date.today())\n",
    "\n",
    "    def _async_run(self) -> Any:\n",
    "        raise NotImplementedError(\"This tool does not support async run\")\n",
    "\n",
    "tools_with_time = tools + [Time()]\n",
    "\n",
    "agent = initialize_agent(\n",
    "    tools_with_time,\n",
    "    llm,\n",
    "    agent=AgentType.ZERO_SHOT_REACT_DESCRIPTION,\n",
    "    handle_parsing_errors=True,\n",
    "    verbose=True\n",
    ")\n",
    "\n",
    "agent.run(\"What is the date of today?\")"
   ],
   "metadata": {
    "collapsed": false
   }
  },
  {
   "cell_type": "code",
   "execution_count": 154,
   "outputs": [
    {
     "name": "stdout",
     "output_type": "stream",
     "text": [
      "\n",
      "\n",
      "\u001B[1m> Entering new AgentExecutor chain...\u001B[0m\n",
      "\u001B[32;1m\u001B[1;3mI need to use the Time tool to get today's date and then add up the digits\n",
      "Action: Time\n",
      "Action Input: \"\"\u001B[0m\n",
      "Observation: \u001B[38;5;200m\u001B[1;3m2023-09-18\u001B[0m\n",
      "Thought:\u001B[32;1m\u001B[1;3mI need to add up the digits of the date\n",
      "Action: Calculator\n",
      "Action Input: 2+0+2+3+0+9+1+8\u001B[0m\n",
      "Observation: \u001B[33;1m\u001B[1;3mAnswer: 25\u001B[0m\n",
      "Thought:\u001B[32;1m\u001B[1;3mI now know the final answer\n",
      "Final Answer: The sum of the digits of today's date is 25.\u001B[0m\n",
      "\n",
      "\u001B[1m> Finished chain.\u001B[0m\n"
     ]
    },
    {
     "data": {
      "text/plain": "\"The sum of the digits of today's date is 25.\""
     },
     "execution_count": 154,
     "metadata": {},
     "output_type": "execute_result"
    }
   ],
   "source": [
    "agent.run(\"What is the sum of the digits of the date of today\")"
   ],
   "metadata": {
    "collapsed": false
   }
  },
  {
   "cell_type": "markdown",
   "source": [
    "## Add Memory to the Agent\n",
    "In this section we showcase how to add a buffer memory containing the conversation history to the previous agent. This will allow us to ask follow-up questions having the previous computation into the context."
   ],
   "metadata": {
    "collapsed": false
   }
  },
  {
   "cell_type": "code",
   "execution_count": 189,
   "outputs": [],
   "source": [
    "from langchain.agents import ZeroShotAgent, AgentExecutor\n",
    "from langchain.chains import LLMChain\n",
    "from langchain.memory import ConversationBufferMemory\n",
    "\n",
    "prefix = \"\"\"Have a conversation with a human, answering the following questions as best you can. You have access to the following tools:\"\"\"\n",
    "\n",
    "# Notice how here we have {chat_history}!\n",
    "suffix = \"\"\"Begin!\"\n",
    "\n",
    "{chat_history}\n",
    "Question: {input}\n",
    "{agent_scratchpad}\"\"\"\n",
    "\n",
    "prompt = ZeroShotAgent.create_prompt(\n",
    "    tools_with_time,\n",
    "    prefix=prefix,\n",
    "    suffix=suffix,\n",
    "    input_variables=[\"input\", \"chat_history\", \"agent_scratchpad\"]\n",
    ")\n",
    "memory = ConversationBufferMemory(memory_key=\"chat_history\")\n",
    "llm_chain = LLMChain(llm=llm, prompt=prompt)\n",
    "\n",
    "agent = ZeroShotAgent(\n",
    "    llm_chain=llm_chain,\n",
    "    tools=tools_with_time,\n",
    "    verbose=True\n",
    ")\n",
    "\n",
    "agent_chain = AgentExecutor.from_agent_and_tools(\n",
    "    agent=agent,\n",
    "    tools=tools_with_time,\n",
    "    verbose=True,\n",
    "    memory=memory,\n",
    "    handle_parsing_errors=True\n",
    ")"
   ],
   "metadata": {
    "collapsed": false
   }
  },
  {
   "cell_type": "code",
   "execution_count": 190,
   "outputs": [
    {
     "name": "stdout",
     "output_type": "stream",
     "text": [
      "Have a conversation with a human, answering the following questions as best you can. You have access to the following tools:\n",
      "\n",
      "Search: A search engine. Useful for when you need to answer questions about current events. Input should be a search query.\n",
      "Calculator: Useful for when you need to answer questions about math.\n",
      "Time: Returns today's date, use this for any questions related to knowing todays date. The input should always be an empty string, and this function will always return todays date - any date mathmatics should occur outside this function.\n",
      "\n",
      "Use the following format:\n",
      "\n",
      "Question: the input question you must answer\n",
      "Thought: you should always think about what to do\n",
      "Action: the action to take, should be one of [Search, Calculator, Time]\n",
      "Action Input: the input to the action\n",
      "Observation: the result of the action\n",
      "... (this Thought/Action/Action Input/Observation can repeat N times)\n",
      "Thought: I now know the final answer\n",
      "Final Answer: the final answer to the original input question\n",
      "\n",
      "Begin!\"\n",
      "\n",
      "{chat_history}\n",
      "Question: {input}\n",
      "{agent_scratchpad}\n"
     ]
    }
   ],
   "source": [
    "print(agent_chain.agent.llm_chain.prompt.template)"
   ],
   "metadata": {
    "collapsed": false
   }
  },
  {
   "cell_type": "code",
   "execution_count": 191,
   "outputs": [
    {
     "name": "stdout",
     "output_type": "stream",
     "text": [
      "\n",
      "\n",
      "\u001B[1m> Entering new AgentExecutor chain...\u001B[0m\n",
      "\u001B[32;1m\u001B[1;3mThought: I need to use the current date to find the sum of its digits\n",
      "Action: Time\n",
      "Action Input: \"\"\u001B[0m\n",
      "Observation: \u001B[38;5;200m\u001B[1;3m2023-09-18\u001B[0m\n",
      "Thought:\u001B[32;1m\u001B[1;3mI need to extract the digits from the date\n",
      "Action: Calculator\n",
      "Action Input: 2+0+2+3+0+9+1+8\u001B[0m\n",
      "Observation: \u001B[33;1m\u001B[1;3mAnswer: 25\u001B[0m\n",
      "Thought:\u001B[32;1m\u001B[1;3mI now know the final answer\n",
      "Final Answer: The sum of the digits of today's date is 25.\u001B[0m\n",
      "\n",
      "\u001B[1m> Finished chain.\u001B[0m\n"
     ]
    },
    {
     "data": {
      "text/plain": "\"The sum of the digits of today's date is 25.\""
     },
     "execution_count": 191,
     "metadata": {},
     "output_type": "execute_result"
    }
   ],
   "source": [
    "agent_chain.run(\"What is the sum of the digits of the date of today\")"
   ],
   "metadata": {
    "collapsed": false
   }
  },
  {
   "cell_type": "code",
   "execution_count": 194,
   "outputs": [
    {
     "name": "stdout",
     "output_type": "stream",
     "text": [
      "\n",
      "\n",
      "\u001B[1m> Entering new AgentExecutor chain...\u001B[0m\n",
      "\u001B[32;1m\u001B[1;3mThought: I need to use the calculator tool to find the square root.\n",
      "Action: Calculator\n",
      "Action Input: sqrt(25)\u001B[0m\n",
      "Observation: \u001B[33;1m\u001B[1;3mAnswer: 5.0\u001B[0m\n",
      "Thought:\u001B[32;1m\u001B[1;3mI now know the square root of the sum of the digits of today's date.\n",
      "Final Answer: The square root of the sum of the digits of today's date is 5.0.\u001B[0m\n",
      "\n",
      "\u001B[1m> Finished chain.\u001B[0m\n"
     ]
    },
    {
     "data": {
      "text/plain": "\"The square root of the sum of the digits of today's date is 5.0.\""
     },
     "execution_count": 194,
     "metadata": {},
     "output_type": "execute_result"
    }
   ],
   "source": [
    "agent_chain.run(\"What is the square root of the last number you computed ?\")"
   ],
   "metadata": {
    "collapsed": false
   }
  },
  {
   "cell_type": "code",
   "execution_count": 195,
   "outputs": [
    {
     "name": "stdout",
     "output_type": "stream",
     "text": [
      "\n",
      "\n",
      "\u001B[1m> Entering new AgentExecutor chain...\u001B[0m\n",
      "\u001B[32;1m\u001B[1;3mThought: I need to search for the number of employees at Amadeus IT Group and multiply it by the square root of today's date.\n",
      "Action: Search\n",
      "Action Input: \"Amadeus IT Group number of employees\"\u001B[0m\n",
      "Observation: \u001B[36;1m\u001B[1;3m16,433\u001B[0m\n",
      "Thought:\u001B[32;1m\u001B[1;3mNow I need to multiply the number of employees by the square root of today's date.\n",
      "Action: Calculator\n",
      "Action Input: 16433 * 5.0\u001B[0m\n",
      "Observation: \u001B[33;1m\u001B[1;3mAnswer: 82165.0\u001B[0m\n",
      "Thought:\u001B[32;1m\u001B[1;3mI now know the final answer.\n",
      "Final Answer: The final answer is 82165.0.\u001B[0m\n",
      "\n",
      "\u001B[1m> Finished chain.\u001B[0m\n"
     ]
    },
    {
     "data": {
      "text/plain": "'The final answer is 82165.0.'"
     },
     "execution_count": 195,
     "metadata": {},
     "output_type": "execute_result"
    }
   ],
   "source": [
    "agent_chain.run(\"How many employees does Amadeus IT Group have ? How much is that number multiplied by the answer of the previous square root ?\")"
   ],
   "metadata": {
    "collapsed": false
   }
  },
  {
   "cell_type": "code",
   "execution_count": null,
   "outputs": [],
   "source": [],
   "metadata": {
    "collapsed": false
   }
  }
 ],
 "metadata": {
  "kernelspec": {
   "display_name": "Python 3",
   "language": "python",
   "name": "python3"
  },
  "language_info": {
   "codemirror_mode": {
    "name": "ipython",
    "version": 2
   },
   "file_extension": ".py",
   "mimetype": "text/x-python",
   "name": "python",
   "nbconvert_exporter": "python",
   "pygments_lexer": "ipython2",
   "version": "2.7.6"
  }
 },
 "nbformat": 4,
 "nbformat_minor": 0
}
