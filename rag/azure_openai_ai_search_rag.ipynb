{
 "cells": [
  {
   "cell_type": "markdown",
   "source": [
    "# Retrieval Augmented Generation (RAG) with Azure OpenAI and Azure AI Search\n",
    "\n",
    "In this notebook we will showcase how to implement a Retrieval Augement Generation pipeline using Azure AI Search.\n",
    "\n",
    "## Environment setup\n",
    "Before executing the following cells, make sure to set the following environment variables in the `.env` file or export them:\n",
    "* `AZURE_OPENAI_KEY`\n",
    "* `AZURE_OPENAI_ENDPOINT`\n",
    "* `MODEL_DEPLOYMENT_NAME`\n",
    "* `EMBEDDING_DEPLOYMENT_NAME`\n",
    "* `VECTOR_STORE_ADDRESS`\n",
    "* `VECTOR_STORE_PASSWORD`\n",
    "* `INDEX_NAME`\n",
    "\n",
    "<br/>\n",
    "<img src=\"../assets/keys_endpoint.png\" width=\"800\"/>"
   ],
   "metadata": {
    "collapsed": false
   }
  },
  {
   "cell_type": "code",
   "execution_count": 1,
   "outputs": [
    {
     "name": "stderr",
     "output_type": "stream",
     "text": [
      "WARNING: Ignoring invalid distribution -rotobuf (c:\\users\\mpronesti\\appdata\\local\\programs\\python\\python310\\lib\\site-packages)\n",
      "WARNING: Ignoring invalid distribution -rotobuf (c:\\users\\mpronesti\\appdata\\local\\programs\\python\\python310\\lib\\site-packages)\n",
      "\n",
      "[notice] A new release of pip is available: 23.2.1 -> 24.0\n",
      "[notice] To update, run: python.exe -m pip install --upgrade pip\n"
     ]
    }
   ],
   "source": [
    "!pip install -q langchain==0.1.16 python-dotenv langchain_openai azure-search-documents azure-identity"
   ],
   "metadata": {
    "collapsed": false
   }
  },
  {
   "cell_type": "code",
   "execution_count": 6,
   "outputs": [],
   "source": [
    "from dotenv import load_dotenv, find_dotenv\n",
    "\n",
    "_ = load_dotenv(find_dotenv())  # read local .env file\n",
    "import os\n",
    "\n",
    "from langchain.vectorstores import AzureSearch\n",
    "from langchain.document_loaders import TextLoader, DirectoryLoader\n",
    "from langchain_openai import AzureOpenAIEmbeddings\n",
    "from langchain.text_splitter import RecursiveCharacterTextSplitter"
   ],
   "metadata": {
    "collapsed": false
   }
  },
  {
   "cell_type": "markdown",
   "source": [
    "## Create Index"
   ],
   "metadata": {
    "collapsed": false
   }
  },
  {
   "cell_type": "code",
   "execution_count": 7,
   "outputs": [],
   "source": [
    "openai_api_version = \"2024-02-01\"\n",
    "\n",
    "embeddings = AzureOpenAIEmbeddings(\n",
    "    deployment=os.getenv('EMBEDDING_DEPLOYMENT_NAME'),\n",
    "    openai_api_version=openai_api_version,\n",
    ")"
   ],
   "metadata": {
    "collapsed": false
   }
  },
  {
   "cell_type": "code",
   "execution_count": 8,
   "outputs": [],
   "source": [
    "from azure.search.documents.indexes.models import (\n",
    "    SearchableField,\n",
    "    SearchField,\n",
    "    SearchFieldDataType,\n",
    "    SimpleField,\n",
    ")\n",
    "\n",
    "embedding_function = embeddings.embed_query\n",
    "\n",
    "fields = [\n",
    "    SimpleField(\n",
    "        name=\"id\",\n",
    "        type=SearchFieldDataType.String,\n",
    "        key=True,\n",
    "        filterable=True,\n",
    "    ),\n",
    "    SearchableField(\n",
    "        name=\"content\",\n",
    "        type=SearchFieldDataType.String,\n",
    "        searchable=True,\n",
    "    ),\n",
    "    SearchField(\n",
    "        name=\"content_vector\",\n",
    "        type=SearchFieldDataType.Collection(SearchFieldDataType.Single),\n",
    "        searchable=True,\n",
    "        vector_search_dimensions=len(embedding_function(\"Text\")),\n",
    "        vector_search_profile_name=\"myHnswProfile\",\n",
    "    ),\n",
    "    SearchableField(\n",
    "        name=\"metadata\",\n",
    "        type=SearchFieldDataType.String,\n",
    "        searchable=True,\n",
    "    ),\n",
    "]"
   ],
   "metadata": {
    "collapsed": false
   }
  },
  {
   "cell_type": "markdown",
   "source": [
    "## Create the vector store on Azure"
   ],
   "metadata": {
    "collapsed": false
   }
  },
  {
   "cell_type": "code",
   "execution_count": 9,
   "outputs": [],
   "source": [
    "index_name: str = \"ai-academy\"\n",
    "\n",
    "vector_store: AzureSearch = AzureSearch(\n",
    "    azure_search_endpoint=os.getenv('VECTOR_STORE_ADDRESS'),\n",
    "    azure_search_key=os.getenv('VECTOR_STORE_PASSWORD'),\n",
    "    index_name=index_name,\n",
    "    embedding_function=embedding_function,\n",
    "    fields=fields,\n",
    "    # needed for semantic ranking\n",
    "    semantic_configuration_name = 'my-config',\n",
    ")"
   ],
   "metadata": {
    "collapsed": false
   }
  },
  {
   "cell_type": "markdown",
   "source": [
    "## Populate the vectorstore"
   ],
   "metadata": {
    "collapsed": false
   }
  },
  {
   "cell_type": "markdown",
   "source": [
    "For this notebook, we've scraped langchain's blogs (see `data/`)."
   ],
   "metadata": {
    "collapsed": false
   }
  },
  {
   "cell_type": "code",
   "execution_count": 10,
   "outputs": [
    {
     "data": {
      "text/plain": "429"
     },
     "execution_count": 10,
     "metadata": {},
     "output_type": "execute_result"
    }
   ],
   "source": [
    "text_loader_kwargs={'autodetect_encoding': True}\n",
    "\n",
    "loader = DirectoryLoader(\n",
    "    '../data/langchain_blog_posts/',\n",
    "    glob=\"**/*.txt\",\n",
    "    loader_cls=TextLoader,\n",
    "    loader_kwargs=text_loader_kwargs,\n",
    "    #silent_errors=True\n",
    ")\n",
    "\n",
    "documents = loader.load()\n",
    "\n",
    "#splitting the text into\n",
    "text_splitter = RecursiveCharacterTextSplitter(\n",
    "    chunk_size=1000, chunk_overlap=200\n",
    ")\n",
    "docs = text_splitter.split_documents(documents)\n",
    "\n",
    "len(docs)"
   ],
   "metadata": {
    "collapsed": false
   }
  },
  {
   "cell_type": "code",
   "execution_count": 11,
   "outputs": [
    {
     "data": {
      "text/plain": "['MmU5ZTBkODYtNjc0MC00OTRkLTgzZDEtZDczZjRlMjZiYmQ1',\n 'MDRmZDQyMzgtZDQ5Zi00ZGUwLWI1YWUtNDQ4NzZmNzk3M2Nl',\n 'Y2Q2YTljODktNmZkYi00Y2Q0LWE4YTMtNWZhOTgwOTI1NTgy',\n 'YzA3Y2NhMTgtMWJkMy00MTVjLWFlYjQtMDZiYWIwOTE2YjA5',\n 'MTE4YmFjMGYtNjNhNS00NjZhLTlhODQtMDdlYTA1ZjNmMjk2',\n 'OWVjMmY5N2ItN2MwOC00NTc3LTkwMmMtZmE5NTJjYjY4NGQy',\n 'Njk5MzdlNmQtN2QyZC00MTY3LTg5MDktNDMwYjNjZWI2ZDY1',\n 'OTVhNTU1MjctM2QxYi00NmU4LTgwYzEtZWUxMzVjY2IyMzhi',\n 'M2I3ZmJiNmUtNzI0MC00ZGQ4LThkYWQtNTZmYTRmMGZhZGNl',\n 'ZDkwMTk2YzUtOWNiYi00ZThiLWIxNDMtZjhmYjRjMDg0ZDM2',\n 'YWUxMThjMmYtMTY5YS00OWE3LThmNDUtZWViYWVjYzhiMTgx',\n 'NTRlMTgzNDktZmFjYi00OGY0LWJhNDYtZGQzY2EyYmQ4M2Ew',\n 'ZDgxOWRiOWYtNDg0OC00MzFjLWJkMDItODJmZmQ5ODllZTlh',\n 'OTM5Mzc4MTctMTEyYS00ZWUyLThhNDYtNTQ3ZjRhZWQ1NWFm',\n 'M2NkYzY5NTEtYjEzOS00ZjVmLTk2NDktYTA1NzJkOTdhNzMx',\n 'YTE1NzQxMjYtYjAzNC00ODllLWJjYjAtOTQzMzYzNjNmN2Ez',\n 'NDg1ZmQwZWEtNmU4OC00MjM4LTliY2EtMjExY2VmMDQwMjgw',\n 'MjE3ZDY3NmQtNTVlZC00MmUyLWEzYTMtOWQxMGIyYTljZDEz',\n 'OTE4YTA3MTItYTBkOC00ZWE5LTgyYWMtMDU2NjBjMmQ3MmIw',\n 'OTU5MGY5YmYtZTAyNi00YTMwLTk4NmMtZDc5YTBkZDI1NTk3',\n 'NmNmMmIxZjEtZTgxNS00OTZmLThkZDktODFkZDc1NTA5NjE2',\n 'ZjQ2Njk0MGItYTIyZi00YmE2LTk3OTQtMzhlNjY4N2RiZmY4',\n 'ZmQ1NzgyMTgtODZmZC00ZDBjLWFiZTQtYzIzNzE3OGE5ZGMy',\n 'YzJhODVlMjAtZWNmZC00NGI1LTk3ODYtMDU1NzE0MmIyZDk4',\n 'OGM2NTUwOGEtZmQ3My00MTRkLWFmYzYtMTZmZGMyNzEwY2Q4',\n 'NTUyZmVjYjUtYTExYi00NWRhLTg5NjgtZGZjZTg2NGIwZTNl',\n 'MTRmZjk3ZDMtMWU2OC00OWQ3LTkzZTctZWM0ZTExNmM2Y2Q1',\n 'ODIzODcxOWItMzE1Ny00ZTYxLWE3NWYtYjRmMDkzZjI5YTFk',\n 'Mjc4MjBkOTUtNjdjZC00YzA0LThhZGItMTQ4ZDI3NGVmNDVm',\n 'ZWRlZTY2MGYtODRlYS00NjJmLWFlN2UtMzk5ZTAzNjRmZTE1',\n 'MGMxMjg4YTItZGUxYy00YTU4LThiNWEtNDFkM2Q5ZDIyYTY3',\n 'M2EyZWI2YmUtNThiMS00MjNlLWE4ZmMtODdkMjlhN2E4Yzhl',\n 'MDVjMjlhZGUtNjdlNi00YTdiLWEyMjgtOGRhZjQ1ZmI2OTk2',\n 'MGQ3ODM0YTktNGNhMy00NTJjLThkOGMtMjhlMjg0NGMzY2M2',\n 'MWExNGQ2MDYtZDcwMC00NDM5LTkxMDMtNWM4ZTRiZDkzMDE1',\n 'ZGViZTcxZTAtMjU1ZC00YTc3LWI2MjktMTQ2NjM0ZjIyMmFh',\n 'YzgxZmRjYTEtOGMzNC00NjIyLWJjMzktYWFhNDIyYmJmZTM5',\n 'YmJmMmRkZDctZTNjYy00ODdjLTkzN2UtY2U3MjUwODE3ODYw',\n 'ZDY5MmY4Y2ItMmIwYS00MTE0LTkzNjItZGE5MzgyOTA3Mjgz',\n 'ZWViYWY3NmMtNDRjMy00YjNmLWE2YTYtNWI1NzAzZGQ5ZDEy',\n 'NTIyY2I4Y2QtNmMyNi00YjYxLWIwOTMtNzMwYzM4ZDdjMjdj',\n 'NDUyMWU5NTgtNDYzZi00ZjNjLWFkM2EtNjM0ZjI4NjFhNDUz',\n 'MzQ5N2VkNzYtMDZjYi00MzRiLWI2ODQtZDZhNWRiOTE4OTNk',\n 'ZDNkZTY3MjktM2I5Ny00N2QzLTg2ZDUtMjkzZDQ3MzI5NTE0',\n 'MjJlNGNhZWUtYjM4NC00ZThlLTk5ODQtYWI5MzJiODBjY2Mz',\n 'YWNjZmMxODgtN2E2NC00NDM1LWI4NWYtODU0YzlmNmYwMWNi',\n 'N2M0OWQ4MjktMGE0ZC00ZDI0LTk0ZWItZWZhMGEyMzQyNmZl',\n 'OWE3NDZlM2YtYmJlNi00ZTEyLWJlNDAtMjg2ODg5Yjk4OTc2',\n 'Y2E0YjJhYjktNmNmMi00ZDIxLTkzNTQtOWYxNjcwMmUwYzhj',\n 'ZmM2ZWM5NjAtMzY2Mi00MjAwLTkxZjktZWU0ZTNmMmU5Yzk2',\n 'NjY3NWM1ZjItY2IwNC00Mjk0LTg0ZjUtMjVhNDY3NzI1MmZj',\n 'ZWQwOTllYWEtMWYyZS00ZjNlLWE3ZTQtMTc5Yjk0YjJkYTU5',\n 'YTIyMzYxOTItYzMxMS00NTIxLWEzZjctYjhhNjgyNTI1M2Mw',\n 'YmZhNTAxNGEtYTg5ZC00MjU0LWE2MzQtNGE4MTQ3MDdiN2Vl',\n 'MDBhMzFkNDgtNDg2ZS00NDgwLTljNmQtNmMwMjY3NGY1NDhk',\n 'ODY3ZGVlYjUtZDdiZS00MTFlLTk2NWUtY2Y1NzViYTFmZThk',\n 'YjdhODM0MmEtMWI3YS00MDM4LThmNGMtNjRhMzg2NDc4ZDUy',\n 'NjFhNjFkMWItZmQxYy00MjdkLWE2NGUtNzRjNTIyODgyYWY5',\n 'MTZhYjEwN2QtMDI5Yy00ZTA3LTk2MmUtMjc0ZmYwOTIyYWRm',\n 'MmQwODUxNmYtZjM1Ni00YjUwLTkyMzEtNzQxYWUwMjU4ZGQ2',\n 'MzEwOWE2N2YtNTk2My00MmY5LTliNzgtMDM5YmQ2MDA5YTY0',\n 'NzhiZWMzODYtODc0OC00MTVjLWFhYmYtMjVkNTExOGE4Yjhk',\n 'YWVhNGY3ZWUtODJmNy00Mjc4LThmNTMtNzZlOTkxYWVmYTVh',\n 'MDlhYzU1OTEtMTQ4Ni00MWIxLThmMGYtNzhhZjA1MTBhMjc0',\n 'NDVjZjk3MzAtZWNjOC00MWFlLWFiNWMtZDRjMzM3NmU0Yzll',\n 'YmFmY2MxNGMtMjAxYi00NjE1LTljMTUtYzg5OTcxZWIzY2I4',\n 'YTM5M2YxNWQtZDI5Zi00NjQ5LTgxOTgtOTdhNjEwMTZkNGYw',\n 'YmZjMzRkYTEtYWExZi00MjEzLThiNmUtZTI1MTRmNmM1Zjcz',\n 'ODAxN2UwZTgtMzc2My00OWI1LThkNTItNjUzMTU5Y2FkYzkx',\n 'NDQ0YTRiZjEtYTU0YS00MmFlLWFlM2ItNGUyZGI3MzgxYmM0',\n 'MTFkOTZiMzgtMjRkNi00ODdlLWFiOTQtMDU3NGMwMTYxMmY0',\n 'NTFiMGJhYWQtZjIxOS00NzRkLTliODItMTA3OWVlZDM1ZjVh',\n 'NzdlMWE5MDUtYzZmMC00Y2VhLTlkN2YtN2RmZTJjNWU0ZjU1',\n 'OWRjZDQzNjEtYzdiYS00YjgzLTkzNGYtZTAyYTdhZjAxYjQ4',\n 'YjkyZGVjM2MtMDMzZC00NjViLWFjNWItMGI0YTdmZGExNThi',\n 'ODZmMmY3NjYtOTVkOC00YjQ5LTk5ODQtNGQzNDQ3ZGZhZGQ4',\n 'MjM0MjY2ZjItNGYxNy00Mzk0LTliZmUtNDlmOWE3MmM2MjQ2',\n 'YmE1NzM4MzgtNTg0Zi00OTNmLTk4NmQtZTZmZDRmZDI1YWFm',\n 'ZTEyMmUwNzctOTZhNi00MjJhLTg2MjEtYWI0YWQ3MDA3YTc1',\n 'MTAyYzE2YWQtNTYwMS00ZGI3LTlhM2ItMGM3NmYxNjMxMTkw',\n 'MTY4MjFjY2ItOWZhNS00MDc0LWFiYmYtYjQ4N2VhNDM4NTQ2',\n 'MThjYzU5MWUtMDIxZi00YTAwLTlhZTEtMjAyYWFkMjE5MmJh',\n 'NDIyOTYwNzQtMjY0MC00YTQ1LWE5MTItNTkxMGIwOGU3OTkw',\n 'YzZmYjI0ZGYtMjYzNi00YmUyLThhY2ItNWVkMmZhNzMxOGZl',\n 'ODM2MzlkYTktMDBiNS00NjQ0LTg0NjYtYjU5M2I3Mzk3MzAx',\n 'OTBmODllYTUtNjAyMS00NjY3LWIyYTktMGE4NmE2MDNjMWJh',\n 'OTY3NDNmNDctZjRmNS00YjllLTkxNjMtZDllZGU5NDljMDJh',\n 'MDdlZjA5NjMtMDJmMS00YWQ3LWE4OTAtNDcwZjA0YmU4MTI0',\n 'ZjljOWFiOTYtNjQ5MC00MmI2LWExMzUtMzY0NDkxYmU0OWRi',\n 'ZjMyNjgwZTYtM2QwMi00YjUwLTllZTAtYWY2M2M5YjZiYjYz',\n 'NDE0ZDcxZTMtMTk0OS00ZTRlLWE1NzMtMTY0MmU0YjkzOThh',\n 'ZTVmYzlkNTktNzViNS00OTNlLWE1MDctOTI2ZDg3MmJjYTM5',\n 'ZDVhZDVkZTktY2QzNy00N2NiLTk5MzktMDQ0YjUxZTY3ZTFl',\n 'MmU5Y2VlMGQtZDRhZC00NTczLWJiNTUtNjg5YzM5MTYyZWM4',\n 'MmUxYjI2ZWEtNGNjZC00YTBmLTg1YTktYmE0OWM4ZWRhNzdl',\n 'MzUxYTE0MzMtOTY3MS00MmYxLThlYTEtNTAxYmQwYjFmZDA3',\n 'NDFkMzVkYmMtYmVlNS00ZTcxLTg0NzItNTY3Y2MyMDRiYmFj',\n 'ZDAzNTFkZTUtNTk5YS00NGMzLWIzZmItODg1NTk3ZGQzYWVj',\n 'Zjk2N2IxMmMtOWRjZi00NmE1LWE5MjgtNTVhNzAyNWI0NmZk',\n 'MjAwMTY1NGUtZmRmZi00NDc4LWExZTktZjFlMzcwMTFlNjQ2',\n 'MjQ2MTdiMDMtMDIzMi00ZWRkLWEzYzYtMWVlNDQ2N2M5OWY0',\n 'ZWFkZmZlZjAtMGE3NS00ZTBkLTg5ZDQtZmUyZWJlNDI2OTBm',\n 'NGE3ZWIyZjUtNzAxOC00NzRiLWE3MDgtZGY2ODRhMmZjYjA4',\n 'MzZhNDY0MDktZjY4My00MjVjLTgwODgtOTJiMjMwMDViYmRh',\n 'MDFhMDc5ZTMtYTAxNy00ZWUzLTliOTAtMzA0YmFkMmM1MTc5',\n 'ZTQ2ZjNiZWYtNjNiYy00N2M3LWE2ZjEtMGVkMzViNGViZGRi',\n 'YmM1NDY2MzItM2ZmZi00ZmRkLWJmNzUtNGQzMGFlMWVjYmQz',\n 'M2EyOGNhNmYtNjc5ZS00MWVhLWFhODQtZmZmYTFhMzQwMDg5',\n 'ZWVhMmY1ZTQtNTBhZi00NWZiLWIzZWEtZWIyNDI2Zjg3Yzlm',\n 'MjcxNDhiZjgtMjA5Ny00NDdlLWI3M2QtNzBjMWMxNWE1YmEx',\n 'MWYxYjg3ZGMtNDI0My00MDViLWFiNjItZDVhMWYyOGE5ZjEx',\n 'NzRkZGU4ZWYtYTc3ZC00MjhiLTk3MmMtYWQxMTdlODNjMThi',\n 'M2IyMmU4NzgtOWRhMS00NTI5LWJmZTItNzZkZjc4OGM3OGIw',\n 'YzdmYjM3NmItZWY5MC00Y2Y3LWIyNDktMzVjZThiMDAwYWMz',\n 'ZTgwMTY4NjMtMGRiZi00MDE1LTk4ZjctNTg1ODIyOGU5MWJk',\n 'NjRkMDJmM2QtMWFmMi00NjcwLWFkN2MtYmM5OGRiNzE3OTQx',\n 'ODk0ZWQ2YmItNzdlOS00NTBkLTlkM2ItMDdhNGJmNjk2MDhl',\n 'NmIyZTFhNmItNGJhOC00NzE5LTliMzYtMGExOTUyZTZhY2Zl',\n 'ZDUxMzUxOTItZGQzOS00MTEwLWI4NWEtMjFhYTgzZjhkZjcw',\n 'Nzc0ZWE5NGUtZTkzZi00M2JjLTk0MTktNjEwN2U2MWU4Zjg4',\n 'N2UxNWZhODQtNDUwYi00OWRiLTg1NTUtY2JhNGZiZjdhNDAz',\n 'OGQwMTIyODAtMzBiYy00YzUwLTg2Y2YtNzdjYmI2NDk0YTg5',\n 'ZDRlODJlMDEtOWEzOC00MjFkLWI2ZjMtYzJjOTQ1MGUxMmIy',\n 'MTZmZjU1OTUtYjY5Ni00OGIwLTk0ZjgtMTZlZmIwNWNmMzEz',\n 'ZWM1YzQ0NTktYzcyMi00NDVlLTllNzEtYTEyYWZhMzgzMWIx',\n 'ZTlkYTU4OWItNjkzOC00MjVmLTllMmUtM2M0MTk0MzM3OTJl',\n 'ZWRjZDQ5YzQtNGIwMS00NmQwLWE1YTItNzU5YzYyMzcyZTJi',\n 'MTY2MGEzMDAtOTM5ZS00NmQ2LWI0MWUtZWVlZDMwNGUzMThh',\n 'MzExMzk4NjQtODMwOS00ZTY4LTk4MTgtMzMzZTk3NmZmNTIx',\n 'YzE4ZTA4NzctZjZiOC00NDRiLTljYzQtMDdmNDMxZTllYjFl',\n 'ODgzYzQzMmUtMmFkZC00NDA5LTk3NzUtNjMxMDhiOTNjNDQ1',\n 'YzFhOWY4MWQtZmRjMS00ZGIzLWI1MjAtYjdkNmM3MzUwM2Ni',\n 'ODMyNTNiZmMtZWU4Mi00ZjI5LWJjOTgtOTBlNmQ4YzViNGVi',\n 'MjE4YWFlODItNDZmNC00NmI5LThlNzMtYTcyMjhjYzcxNzU1',\n 'ZThjMTA5NDktZDI5Ny00YWU2LTljZDgtOTg1ZDZlM2E4YjA5',\n 'MzAwMTkwOWUtNjU3ZC00NTUxLWIxMTAtNWU0MzhjNzNkN2E4',\n 'ZGFkYTJjNTEtMDIyYy00MDliLWIxZDAtZDQ0Y2JmZWM3NjJl',\n 'N2UyZGFiOTUtODlkYy00ZjQ1LTlmNjItMTVlNzg1MThiMmZh',\n 'ZmYwNzljMzItYmYxOS00ZTVjLTk5MjAtZWIwZThlNzFhNDk1',\n 'OTVhODUxMjQtY2RmNy00ODdkLWIzODAtMTQzNzhhNjFiZDhj',\n 'NWQwMTBiYWUtMjFmYy00NjNlLTg4MzEtMDZhMTZmOGUwYjYy',\n 'MDk2NmVlOWQtZmFkMS00MjcwLTgzYTYtY2FlZTYwOTE1MDkw',\n 'N2E0MzYwZWItMjJkNy00NzZiLTg5NGMtMzljODY0NGU0Yjg2',\n 'YzczYzAzNDYtZjBlZS00MmEzLTk1ZjQtOGRkZTZkYWY4NWVk',\n 'NzU2MjA5NzgtM2VjOC00OWI2LTg1ZjUtMGIwZTdkZWIwMWNi',\n 'N2YzYmE1ODgtZGQ4ZS00MWY3LWIwZGItMzFlZmFmNDY5MWVh',\n 'OTFkMDM2ZWQtZDkxOS00YmVkLTliZjYtZDg0MzVmZTk5Yzg2',\n 'YTNkNmM5ZTYtNzQzNi00MWZiLWFiMzItN2UxNDc4YjM2ZDFi',\n 'Y2IzNzY5MDktYTZiYS00OThhLTg2NDgtMTNmMDc3MThhYzA4',\n 'YjgwYWMxYjktMzdjMS00ZmU5LWFmMjItNGE2NWVjYTBmODkw',\n 'YTEzZGRiYjctM2I1YS00YzFmLWE1NjctMWZiOTc2ZWZmZGI0',\n 'MzU5ODA1MzYtOWY0Yi00YzliLTljZDAtMmI3MTNhMDNhYjFl',\n 'MjYzNTJmZGItZTBiNC00MTJkLWEyYjktNTVkNmQ0YmIwMDFj',\n 'MzNmMGFlOWUtYjU3OS00YWZmLTg1YzktZTYzYTJjNjc4OGJi',\n 'NWQwNGY2ODgtMGZkMi00YWQxLTliNDUtNjlhMGQ3MmIxNDMw',\n 'NGRkYWJiOWMtOGQ4ZC00YzI1LWFkZGItN2EwM2UxOGFhZDMw',\n 'MzJiMGUzZGYtMDAxYi00MjY2LTg3YWMtNmY0ZWE1Nzg5ZjBj',\n 'N2FkYzgxNDQtYTg0Ny00NjgzLTg3YTAtMmE5Y2UzYzc0ODBj',\n 'YjU3OGVmNjMtMGZmMS00NDRkLWFkNjEtMDU3MmZmMzE2NzU3',\n 'OTM4N2ZiN2MtYmRhNy00ZTZjLTliZDMtMzJmZDNiZTc1ZWQz',\n 'YTI1MmI3MzctMWUxOC00ZDQ3LWJlNmQtNWQzODIwODdlNzdm',\n 'MDgzNmU2ZTctNDU0Mi00ZDlmLWIwMDItNmUyYzUwYWYwYWMw',\n 'MTlhNmFjZWEtMTg5My00NjFiLWJhYTAtYmFkZjExMzA1NzFh',\n 'YjA2NDAwMjQtNWEwNC00OTdkLWFjNjMtNDAyNjljOTk2Mzli',\n 'NWNiOGM2N2QtYjIwOS00OTQ2LTgwZTctYjFlNTdhN2Y3NGJk',\n 'Nzc3YWU5MzEtZTczYy00ZDU3LTllYzItOTdlM2Y4NjY2Njk5',\n 'YTJmZGZlYjItZjJmYy00NjlhLThhYzItOTMxOWFlOGE5Nzc2',\n 'MDllMmM2OGItYTM5MC00ZmQwLWFhZjgtOWE3ZDhhMjkwNDhm',\n 'MTQ1YmU5MDEtZTk0Ny00YmE0LTgzM2ItNzZlNDM2NDM1NjI3',\n 'OTg5OThlZWEtNmJhYS00YWNjLTkxYmQtYTM5ZWRmMDBmYmQx',\n 'ZjhjMThmMDAtOGZiZi00MDk5LWI2ZTItNDlkYjE5MThlMTgy',\n 'NTQxODhjMDQtOGRlYi00MjlhLTliMDYtZjljYjlmNzllMTBi',\n 'M2E4OTJmMjUtOWY5Mi00NTVkLTg5ODQtYzAyMTFlMDY5MTU4',\n 'Zjc1YjVhZjktYzdjNy00MjdhLTkzMjEtMjY5NTRiMGUwZDI3',\n 'MWY3NjNlZTctZTllNy00Y2Y2LWEzODEtODJlNmMzYWI5MzUx',\n 'YTdjYzk2NWYtZGE0YS00ODc5LWEzY2UtZGFiZjY5YWMzMWNh',\n 'Y2NhZjk2NzYtNzhhOC00NGNmLWIzYWMtZWY2MjBkZmQ3YWUz',\n 'ZjhmZGVjNjAtYzEyZC00ZDYxLWFhMjctNDgwNGYwNTAxNGY0',\n 'OGFkMGFjMjMtOGY4MS00NThmLWJmNWUtNmU1Y2M0YTU3YjZk',\n 'Y2UxNjY2ZjYtOWZiZi00NjkxLThkNjQtNjNkNjkzMTc2MGI4',\n 'ZjE1MmYwODEtNzM4Yi00MTA2LTg3MTctYzYwMDY0NTY5OWYy',\n 'ZTk3MjNhMzMtOWVkMC00NWRmLTk3NTYtZTMwNmQwNjJmMzdm',\n 'YTlmNTBmMWEtMWIxOC00MWQyLTk5NDEtNzgzMmE2MTkyOTQ4',\n 'NTcyNDhjODYtYzY4Zi00OTRmLWEyNjktZjNmNjExZDdmNDQ1',\n 'MWQwYmU1NzQtMjM2NS00ZmNjLTk5ZDktMzAwMDRlNTdhM2E4',\n 'YTc1YWRlNzItMzUzMC00YTI2LWE3ZWYtMzU3NTBlMTYwMWVj',\n 'ZTBmMWM0OTUtNTNiZS00N2VlLThkZWItODNiMWFiMGEwOTkx',\n 'YzcwOTg3NmUtZmQ1NC00YzRjLWJhMGEtNzlkY2IxOGYxYWNj',\n 'YWE2ZDBiMmYtNzJlMi00MWYwLTljOGMtMjAzNWQxOGI1OWM0',\n 'OWFmYWMxM2YtNmY4Ni00MDgzLTk3OTEtZDljNTZiYzcwOGM2',\n 'ZDEzNmM5YjEtNzUzYS00ZTUwLTlmOWItZDkyNGM2YjcxYjU5',\n 'ZTViYTA5Y2EtNjk3Yi00MmFlLWEyMjYtYTkyMjQxM2M4OWZh',\n 'NWY5OTZhYTEtNDk0MC00NGY3LWJmYWItM2E2MTZkYzk4MmFk',\n 'MGE1OGI3MDMtNTViZC00MzBiLThhZGItMWNjMmVhMDJlNDQ0',\n 'ODMxZGIzMDgtZjk1Zi00Mjk0LTg3NjQtZjFkYzVjZjQxYmZi',\n 'ZjExZGJiNzAtZDUxYy00Yjc2LTk0NjQtNjI4NzkzOThhZWNl',\n 'MDA0MmUxYzAtODFmMC00NzhiLThhNDQtYzRmZTExOWY2NjUy',\n 'MzBkMTU1NWEtNDM5Yy00OWE5LWE1YzEtNjkzNmMzYzIyY2Mz',\n 'NjBjY2VhY2EtMjM0My00ODFjLTk2MDAtZTNmOTE5YjJiMTdi',\n 'NThhM2I2YzgtMWFjOS00MmQyLTkzNDEtYTY1OGJjZjBmOWU0',\n 'OGIyYTYwMjItNzdmNy00OWY2LTgzMjgtYTQyMzRmYjBiYmVh',\n 'ZTQ3YTQ3ODItMWQ4NS00ZDA4LWI5ZGUtYzNiYzU5ZDA5Y2Y2',\n 'NjE2NjgzMWItMzMyOS00OTk4LWFhZWMtYTM2MjA3ODEzNDI2',\n 'NWJiZmE1MjctMmVhZi00ZWEyLTk1NDItMmJiZWNkNTlhMDFj',\n 'NDMyMTBmZTQtODRlZi00ZmI1LWI0ZmUtNWMwODhmNmY3ZDg0',\n 'NzRjYTAzMTQtODg0Zi00ZTk5LThhZjEtMjgzMDg5MTM5YTRj',\n 'MjA2YzcwZmYtZTIwZS00ZDM2LTliNzctZGI4MWQ1YWRlMjRh',\n 'Y2YwYzZhMDMtZDIyNC00MzA4LTkxYTQtMzE1NzMwMTVkMDFh',\n 'OTUwMzEyNjctZjZhZi00MDEyLWE0ODgtYmFkODY0MGY2YmRl',\n 'OTYzNWJkYzUtMmZiNS00YTc4LTljMjAtYzk1OGM1MWM1M2M1',\n 'ODViMzlkMGMtYTk2ZC00MTNiLWJiNDgtNTU5NzkyY2Q1ZDdh',\n 'MjVkZDUwNTktNzYwMS00OTc2LTg0NmItM2U1YzZkYmU1YmIz',\n 'NWM2MTI1YjUtOTg3ZS00YjhhLTk3ODMtMzNkZTI0NzQ0M2I5',\n 'MWMzMjZkYmUtZjVlYS00YTVhLWE0YTUtM2Y5NDUwNDE2ZTcy',\n 'NjMwMjUzMjItNjhlMy00ZjNkLWI4MjktYTY1ZDk0NjFlZDNh',\n 'NjlkNjk3ZjEtMDczMy00NTE0LWFlMGMtNzgyMDBiNDA2MWE3',\n 'YzNkMjc4OWEtZDg2ZC00ZjVhLWFkNzYtMDRlOGIyMmRlYjgx',\n 'ZWE4ZjU1ZmEtZmM5Yy00ODU2LWJlNWUtM2RhMTUyZmRhZWY1',\n 'YTYzOGRhNGItZjU0MS00MmRhLTg2MDMtYjg5NzA1YTAyMGE3',\n 'YjVjN2YyYmEtY2Q1NS00MjEwLWIwNjgtMDQxNDg1Mjg3MmUz',\n 'OWYxNzY2OWEtZTdkYS00MzBlLWI1ZGMtYTU3NzE5OTQ3N2Yw',\n 'MWI1OWI5NDQtODc3MC00ZmM3LWI2YzAtYTM4NTJjZjE4YmQ5',\n 'ZDJmM2MyNjktMjg3Ny00NTgzLTg2NDgtMzMwMzQ4NDllNzll',\n 'ZDNlMDIyMmMtYTU4Zi00MDllLWI0MjctYTZmYjgzYjI5YzBl',\n 'OGVmN2VhMWQtZTdiZC00NjVhLWIyNGUtYjg1MGU5YWVmZTFj',\n 'NmJkZTEzOGYtNzA1Yy00MDdkLThhMjgtZTgxNTc0MWY3OWQ2',\n 'ZjlhMTJmZmItNWQ0ZC00YTI0LWE3NmEtNDVjOTNhMzg1YzI1',\n 'YWFiYjA5NDItN2I1Ny00OTAxLTg1M2EtNGY4Y2M2ZTM3Nzhm',\n 'ZjZhZDBjMzQtMTQ5MS00MzE3LWEyN2MtNzcwNjdlNGM5OGE5',\n 'ZDdhZmIzNGUtMWQ5NS00NzRmLTliYzYtYTJkZWM1ZTA5MzFh',\n 'YTgzZmU5NDQtN2EzZS00NDM3LTkyMWUtZmM1MmU4YTE5ZmE5',\n 'YjU3M2MyNWYtY2NhMi00MzlkLWJkZmUtYWUyOWMyZWE1Y2Q3',\n 'OTZkNTE4OGQtMjBkZC00MGYxLWE2N2ItYmFjOGYyMTMxNmQy',\n 'ODVlNTI0MDYtMzk3MC00N2NmLTgwYTUtZDkxNTMwMjY4NTNm',\n 'MzRmNDQ2OWMtOTQ3MS00MjE4LTg3MTAtNjkzNzU2YTExNjU1',\n 'NWVmMzUxMmQtNmZmMi00OTJiLTkyYmUtOTgwYjkwNTQzYjBh',\n 'MjE5MWEwOTctYzI2Ny00MWY4LThkM2ItY2E2N2ZmZjM0NDIy',\n 'M2MyYTFmNzYtYWEzNi00NDZmLTg2YjMtNGMxYTU2YWFmZjll',\n 'NmRmZjZkZGUtMzcxNC00ZDI0LWI2OWMtMzEyNGU5Y2IzNjQ0',\n 'YzAzZGNiYzItMTg2ZC00ZTBiLTliNjYtN2IyOThmMGMxZGVj',\n 'YTc4OTcxMDUtOTI0NS00OWMyLWFhODYtOTU1OTJkN2I1NWU3',\n 'YjBlMWI0N2UtNGVmZC00MDE0LWEwYWMtY2IzODliOTk0ZDMw',\n 'YTY3YTZiYjctODk3Yi00OTljLWE2MzAtOTQ1MjA4ZDUyMDVm',\n 'ODc4NzI2NjctZTAwMC00YjU2LWI3MGEtYjVlYzQxMGU4NTVh',\n 'NzZmZmE3ZWQtZWZmYS00NWYxLWJjNDktOGMyYTU3M2UwOGIz',\n 'YjQxMjAwNDctMDc5My00YTFjLTk5YmMtZjJhYzFmZTE3NDU5',\n 'NzM5M2E2MzQtN2NmZi00MzFlLTkwZDctNTE1NGM1NzQ4ZGFl',\n 'ODI5OGUxMDUtNTY0ZS00ZTdhLTljNTUtOTFlZjA2Mzg1OWRk',\n 'YTM1MmM1YmQtMzM1NS00NTliLWExN2MtOTMzZTdhZDQzNTg0',\n 'MjA4OTUzOTYtYTVmMS00YmYyLTg2ODItZDI0YTBjOWIxZWMy',\n 'Mzc3NzdjYzctZTY5YS00NzdjLWFmMDYtOWQzM2E1M2ExNzdl',\n 'NGNmYjBjYTgtMmViNy00N2M2LWE4OTAtYWY2MmYyMGEyNDQy',\n 'NmU0Mjc3NGQtMmRjNC00Y2E5LTg1NTQtNGExMzQzMjYxOWNi',\n 'ZTVhODk2ZTctNTM4Yy00YTY2LTlkYmQtY2NiMmY0MWYxM2My',\n 'OTc5NDQxNDEtZDEwZS00YmI2LTgyMzgtNDk2ZjBiZGU4OGMz',\n 'MzZhYzhlNTEtODBlZC00OWMxLWE3OTUtOGI2YWM0YTBiMzEz',\n 'ZjMyNzY2ZTgtNDkzZi00MDUwLTg2ODUtZjBkZGVhZjFiODFk',\n 'MGVjOWJmMDUtYjZhNi00OTQ4LTg5MDgtMDYwYmEyYzI3ZmFi',\n 'ZDFjMTMzNjUtZjgwYS00YjgxLWI2MDktMjY3NzkxOGYxNTdk',\n 'YTQ5NDNjNzItMTEyYy00MDE3LWFlNjEtMjQwYjIwZDk0MDVh',\n 'YzIzNzczNjAtYjM4Yy00Y2Y5LTkxNTQtYzhlYjhjODU3ZjVi',\n 'OTk2NzE0YWYtODMyZS00MDBmLWE1YjUtODA1YTMwNjk2YTU0',\n 'NjVkYTcyMDktNTg1Ny00YWJiLThjNTEtZWJmZDhlMmY5ZDVk',\n 'MzQwZjk2NDMtNjA4Zi00ZDRmLWIzZDEtZDU5YTc2YzUzNWNk',\n 'OTRjYzU3NWYtNTE1ZS00ZmIyLTg4MTEtMDMwMmMzYTA4M2Mz',\n 'NzVkZjgwOGYtYjQyNi00MTg3LThiZmItODFhMDMzZjdmODU0',\n 'Yzc0YTI5N2EtOGY3Mi00YWRjLTljOGYtY2QxODUwYjQyNDI0',\n 'MDc4YjIwMmUtMDY1YS00MmYyLThjOWYtYjI2NWZmYWIyNWMz',\n 'MmVmZGYyZjYtNjcwYi00NDI3LTkzOWYtN2JmZDAwMzc2NmQ0',\n 'MDMxYjE2ODUtMzBjMi00YzA4LWI4ZDAtYzFjODMwMGM0ZDQ2',\n 'NTdkMDRhZTMtZjk5YS00OWFkLWEzN2MtYTI1N2RmODg5Y2Fj',\n 'MDU3ZDE4NTUtNjNhMS00YmE5LTliMzgtMzQ5MTBmOTBmMDk0',\n 'NDM4YmE1OTctMTZkNC00YzExLTg5YWYtYzY3NjMwYWEwNWMw',\n 'ODczM2ExZDItNjZhMS00M2I1LWJiYzUtOTY1ZGE2YzAxMmRl',\n 'OGQ0NjFiNDctZDU2OS00ZmIyLWI1ODItOWUzOWE2YmUwMDMw',\n 'MDFjMTg3YmMtYzBkZi00YmVlLWJjMTItZWRkMTU0NTA4NDI1',\n 'YTk2MzhjYzItMDM3Ni00YzY3LWI1NDAtZWYzNDUyNjNiMGI4',\n 'YjVjZGUzNmQtNTc1My00N2NlLWJhZTUtMjM5MDVkNzBhN2I4',\n 'NGRjMzM1YjQtNjBkNy00YzYwLWFmMmUtNWQ1MGExNjQ0NzRl',\n 'OWRhMGM1MDYtOTI4Yy00ZmUwLWE5ODctOTNkMWNmYjg4NmJl',\n 'NTUyMzdiZGYtNGFkNC00MTcwLTk4ZTQtOWFhMmFlNzIzYjg4',\n 'Njg5MjQxNGMtYzAyNS00YjcwLWJlYzUtNDVhMTIzZjU5Mzhk',\n 'OGRiNTZiMjgtM2M4MC00Y2M5LTkzZmEtNzg0NjgyMWI0Y2Nk',\n 'MTdlNDA0NDYtNTI4OC00YWU3LTk3YmQtMzk3MTRlN2U4ZTI2',\n 'ZDUxNmFiYzYtNDlhNy00YTk2LTk1OTQtZDkyM2Y3Y2ViYTFj',\n 'NjgyZmRhYTctMjViMS00YzczLTljZTktYzE0Nzc5NTQzYWFj',\n 'YjRmYTQ2YjgtZjIzNy00OGQwLTlhNGQtYzUyYzVjNjI1NGE4',\n 'NTgyZGU5NDgtNzI2Mi00NGZjLThjMTQtYTJmMjlmOWQwM2Yy',\n 'M2VhN2ZiZTYtMzdkYS00MDJiLTg3MjYtYTZiODdlOTRhOGQ4',\n 'ZWQxZWRhNGItYzhiMS00MDhkLTgzMjctMmNiZTc1MWM5Njll',\n 'ZjFhYTFlYTEtNjRmNC00NjhlLTk5ZWQtY2U5MTBjNGQ1Mzgz',\n 'NDg4NDg4MGMtNmExMy00ODAyLWJjMmQtMzZlNGQ1ZjVkYTE0',\n 'NGJkZjljMzItNTg5Zi00NWZlLWJlNzUtNzQ1Y2MwZDM5NDE1',\n 'YzVhNzMwZTAtZjAwMS00NjEwLTliZjUtMjA0NGM3M2E0NGZk',\n 'OWVlNzExZWMtZjVhZS00NjM0LTg4NzQtYzMwODc0ZDc4NTAz',\n 'ZjE2MDViOTYtNDExZi00ZGRmLWExOGQtZDgzZjRmNzJiZGJk',\n 'MWIzZjAxMGUtNjk1Ni00YjM5LTg0ZTItYjQ1MWFmOGI1NTk4',\n 'MGI2YTIzOGYtY2ZiZi00MTc4LWJmZGYtY2NjYWVkODYyNTUx',\n 'ZWNkYmU4YmItNjk4ZC00Njk0LTg2ZjEtNjM2YTkwNzllMzMx',\n 'ZmI2YTI2ODktNDBjNC00ZGNhLTg1MGQtNDU0YTQ0ZDkwYmFh',\n 'NzI0ZmU4OWQtMWJmOC00MGM3LWI5ZDgtMDc4ZmZiMDI3N2Qx',\n 'ZmQyNzBlOGMtNDYyZS00MmU3LThmMDYtZmFhZmRmYzMyNjZk',\n 'NGMwYzViMmUtMDljMS00OGE1LWJiZDgtZGZhZjgxNzY0MDVl',\n 'NmVkMWVjMzItNDhhZS00NTk0LWI0MTItNjVmNjk5ZmQ2Zjk2',\n 'MDM5OWM4YWEtMjE3Zi00Nzc5LThkZDYtNGZiOWRhN2EwYjU4',\n 'MmU3MWM5ODEtNzA5Yy00NGI2LThmMzktZGJjYmU2MjhhYzJh',\n 'YjMwZmZjMzktZjgxYS00MWJkLTkyYTMtMmRkMDFhMzA3NjRk',\n 'NGJiOGI2ZGEtMzNjZS00ZDMzLWI1YjMtZjU0NjJkMzc0ZTNl',\n 'ZmY2NTUzNmYtYzNiNy00YjJkLTgzNWUtYmE0MjFiMzAwODVk',\n 'Y2FkNDY1YWQtOGM0Zi00ZTkwLTliNzEtZmRlZDRkZDJlYmNl',\n 'NjhiNzU4ZjYtNjY4MS00MWY1LTk5ZGYtNTc2ODVmOTJjMDBj',\n 'MmJiMmM5NGYtZmQ5Mi00MmM3LWE1YzctNGU1ZjU1OWUzMjA5',\n 'NjJkMGE5MTEtNjU3NS00ZjkzLWExZWQtYmJhNTU5YzdhNjQ5',\n 'OWQzN2RlMmItM2JjNS00M2Y4LTg3MDUtMzMxMWZkNDhiYWY4',\n 'YWFlMjgyYjYtNmI2Yi00MDFkLTljNGUtMWI2MTViYmI1MWMy',\n 'M2VmYzdjMTMtOGJkYy00NDc1LWIwNTAtYmM0N2EyZDFjZGUw',\n 'ZTIwMzJjMTgtYjFmZi00N2E5LWFiYWEtNjUxMWNmZWRmNTg5',\n 'MGVjZWQwOTItNDU5My00NTFiLTkwYzktNTc1ZGEwZWYxNTUx',\n 'ODUyM2E4YmQtYWRhZS00ZGIzLThmOTctNGIwZDU4ODliNzEw',\n 'NGYyNjIwODctZjExMi00MTM3LThmMzMtNTE3NjNiN2FiODVh',\n 'MzdhZmI4MTEtYjFhYS00YjBjLWEwZTktNTcyMzVmZmNlNTc0',\n 'ZThiMTBhZWQtNTFhNC00ZTEzLWJjZjktMTdmYjE4NGUyODQ4',\n 'MjI2MzdjODItNDAyOC00OGU2LTkyNTAtMjUxZDMzM2MzNjNm',\n 'NWQxYmNkM2ItZjM5OC00MmZhLTljMTYtMGMzY2U0NjIwYmEw',\n 'OTdiNTc0MWQtNmFmYS00NmI2LTgzMDMtZGY2ZDk2YjJjNjRl',\n 'ZDEzMzgzMDYtZTQ0NC00MTQ4LWJmZjEtMjM5MTMwNDlmZDIz',\n 'ZDcwNTQ2ZWItOGU1Ni00Yjc0LThlMTYtZmU3MGRiMGE3YThh',\n 'MWU2NWE1YTMtNWU2ZS00YjFjLTg4ZjQtOGMwYzJmM2FkMTMz',\n 'NGQwMzA1OTMtODc3ZC00OTFhLWI2MTYtMjQyZTRmYWJmOTgz',\n 'OGY1YTJmOTUtMGI4OC00OGEwLWI3MjktOWQwNzI3YTAyZWVm',\n 'MjkxNDI4YjgtMTE0MC00MWE2LTlmYTQtMjdkZTQ4NmE1M2Nl',\n 'M2U5MGFhYzMtOGRlMi00Yzc3LTllNmMtYmM5NWI2ODBmOGM2',\n 'NmM1MWI0ZGYtOTU1My00NTFkLWE0ZTctMDViYjdmM2YzMjVi',\n 'YWE5Mzc2NzUtNTc2YS00MGExLWI3ZjEtYjJlYzkyNjBhYmZm',\n 'N2M3NmRiYzUtMzJiYy00MzUzLWI2Y2QtY2JjNjFiYWJmZjc4',\n 'YjQxYzU5MmQtMmMxOS00MjliLWExMTEtZGJkOGQ1OWI2MWE5',\n 'ZGQ1MGM2NWQtZGI4MC00MjFmLThjZmQtODUzZmJmYzU0NGJk',\n 'OTJkNWE2ZDYtM2Y2Ni00YTJkLWFlY2UtMmNhMTRmMjBiZjIx',\n 'ZDM1ZGE1OGMtZTJlNi00YjQxLWI3MTUtMjZhMGZmYmMwZWJm',\n 'YTU2YWNjNWMtMDgzZi00ZDI3LWExNjQtNjM0ZmI2OGFiYmRj',\n 'ZWZjMDU3ODQtZjAwYi00NGE1LTgzNTMtNGRmNTI5OTgzM2Mx',\n 'ZDczM2I3NDgtMmE1Yi00NWNlLTk1OTYtZGM5MjRhODYyMTQw',\n 'NWJjNjBkOGEtZThjZi00NDZkLWFlYjgtNDZjMGQ2M2I2Zjg3',\n 'YjVkNDA5YWQtMmY2Yy00YjEyLTgzNDYtOGQ1ODAzYWNlMzA0',\n 'Mzk0ZDM5NTQtYTQzYy00ZWYyLTg3NjgtMGM2NWI4Y2FjYmFm',\n 'MzdiYWE0MTAtYzhjYi00MzExLWI2YzItMGEzYmYxMjY3Y2Qw',\n 'Njk1MTVmZDYtZjE5YS00ZjY3LTlhOWYtNDBiMDZlOWI5Yjk2',\n 'Y2NlMmM1NDEtNjNjYi00MmI4LWE1MmEtMGM2YzBiZjhjZGYy',\n 'ZTE5ZTRhMDgtZTAwMS00NWMwLWExZjItNjg4MGMwODM1ODAx',\n 'ODc4MTFmMDktMTc3ZC00NTRiLWIxYmQtY2QzMjZhMDgwY2Fl',\n 'M2I3YzBmMTUtMmQzZi00OWU0LWJmZjktZGU2MTZlYWU0NWE2',\n 'YmIwMDI0MGUtNDRkYS00MjMwLTgyYWUtZGMyZTlhODc4ZjRi',\n 'MjEyMmEzYzMtNWQ4Yi00M2FlLTllODctMmE4N2YzYjhmM2M1',\n 'YmNmZjAwMTEtZWJmYS00Y2ZmLThjZjctNDdjMmY4YmI0NzM1',\n 'MDBhNjQ2MWQtMzYzMC00Y2YwLTkzOTgtNGQ2NjkyZDcwMDRh',\n 'MWE4MzI1ZWMtYjY0Mi00YWYzLWE2NzUtYTY4MzdjYjQyYjA0',\n 'OTM0YWUzMjMtMDIyNy00ZGJmLWE5NTctNjk5YjVhMTM2Nzc1',\n 'YjNmYjM5ZTQtNjg4My00OTgxLTljN2EtZjEwMDExYTc2MmNh',\n 'MjFkYTllODQtMTY5Zi00ODE0LTljN2MtOWY5NWQ1MzkwYTQ5',\n 'NzU2NTJjZTQtNGE3MC00NzMyLTg3NjItYzU2ZTNhOTQ0Yzc0',\n 'MTFhZTY2ZjAtNmMyZi00OTcwLWI0MzYtMzM0YTczZTFkYmJj',\n 'NGQ5YzAyZDMtZWI0OC00ODk1LWEwZjYtNDI0MTNjMTg1ZDA1',\n 'OWMxNTYwYjEtOTQ4My00MDdiLTlhNzItZmMyNmZiN2E2OGVm',\n 'YTYwMDc3OTQtNDNhMC00NjE3LWIwYzMtYjVjZTQ5MGUyNjFi',\n 'MWQzZTM0ZmEtYzZhMi00NzM0LTkyZDgtMzIzMGNiOTE1ZGM3',\n 'MmU0OGQ3OWEtMDkwNy00ZDc5LTljYmYtM2Q4MzMzNTExZDNk',\n 'OWI0MzA3YjctZDBiMC00NmZhLWFlMzUtY2VlZjlmYTllMDUz',\n 'NDhmZmY2MWQtNzRjOS00MTg4LWE5YWQtY2RkNTNlMGZlN2Zh',\n 'N2NlMDRhYWYtNmRkOC00Mzg0LWEzZjUtYjA3ZDY0M2NkMTY5',\n 'NmYwNjc5NmUtZTI4MS00MGRhLTgwOWUtZmYyM2Q2MWY0OWI0',\n 'MzNjODM3ZDMtOTNkOS00YWJiLTlkMGUtYWZjNTBmYjU1MmMw',\n 'MDkwZDA1ODgtOTUzOC00NzRkLTkzNTQtOGUzNGZmZDZmMmRk',\n 'MWM2YWU3OTMtZGZlNi00N2ZmLWE1ZmItZTU2NjY0NWQyMzQ4',\n 'NmQ0MzVkOTYtNmNkOS00YTAwLWFkM2YtNGYwZDEwM2M5ZmE4',\n 'MGM1MWI4YzUtMDc1Zi00MWMwLTg3ZDgtNTE0MGFhNGZmYmI0',\n 'MjYzODVjOGEtNjZkOS00YjYxLTg5OTMtYzVhOGIxYWYyZjk0',\n 'MGZkNzhlZmQtYzZkNy00ZmRhLWE0ZjctYTZlNWQ3YzllZGFk',\n 'M2Y0NzRjMWEtN2JlOS00NGQ2LWE4NGMtYTU4ODAyYjk5MTM2',\n 'MWQ5M2M2NDEtYzFhZi00MzVjLWI5M2QtZjY1MjkwNmFkYWQ4',\n 'NjkyZjdhOGItMjI0Yi00YWM5LTg0MTEtZDM4MGFiOGZiYjRl',\n 'MzZiOWEzNTktMzc3Yi00YzdkLWI3NzktNmZjZDFmYTMzNmUz',\n 'MDg1OWI0ZDEtOGVlNS00NmU0LWJiYzQtMWY2OTJlNDMwYzNk',\n 'NzNhMWYwZTQtNTBkNC00YmEzLWJiMDMtMzc5NDMwYzY1MDk3',\n 'MzE1N2YxZjQtN2U2ZC00MTZiLWI3NDktODBmMWZmM2Y5MjA3',\n 'ZmNkYTE0MGQtMjEzMC00MzhiLThkZjUtOTNiOTNkZWM0NWQx',\n 'ZDlkZTg3NTEtZWJkZC00NGVkLWFjNTUtNzcxMzI4NTMxOWJj',\n 'ODZmOTYwOTItOTQ4YS00ZjEyLWEyOTQtYzhjZDg0NWRjM2Fl',\n 'YzE5YWFkMTctZmYxMS00NzhmLWI0NWUtMDgxNzAxZTgxNjJj',\n 'MDVkOTI3YzctYmY5ZS00MTZmLWE4YmYtOTk5ZDBhOWY4ZGUz',\n 'NDkyYjQ2MGQtNDkyYy00ODgzLWI5OGMtZGZlMGEyYmM4ZWFi',\n 'ZDYyMGEyMjYtMDRkNC00NzA4LWE1NTEtOGIzNDQ2ZGRiMWI0',\n 'YTA2YTc2NDItNTJkMS00ODJmLTliNDMtZTg4NTVlOGYwZmNi',\n 'OWY3YmU2ODUtOTliNi00YmVmLTg1MDgtMTUzYjVhZWVlMTFm',\n 'MmFlZDI5ODUtYzU3ZC00Y2QxLWEwY2ItOGViODJlZTRiMWEz',\n 'MzI3Yjc2YTctMjUyNy00Mzk0LWEzMDMtOWQ5YWQzZDM5N2Jh',\n 'ZDMwMTAxOGQtNjYzNy00YjNlLTgwZDktNjJhNDBlYTc4NThi',\n 'M2JmYmZhYTgtZDE5My00NjcxLWI0YzUtNmZkMjE0Y2NmMTIw',\n 'NThiZDM1NmItMzg5ZS00NzhkLWEyMTctM2I5Y2NlYTU3NDZl',\n 'ZDM3OWI0NTgtYWJhMS00MzEwLWIzZTEtZjk4OTI0M2Q3YWI3',\n 'NGI2ZDAyNzMtZmI4NC00MjIxLWI3OTAtN2UyOTUzNjcxMzYy',\n 'YjE4NDdkYzQtNjgwOC00MzkzLTljODAtY2JkOWExYWY0YzNl',\n 'N2RhMTJiMjYtMDA3MS00OTI5LTk2NzItOWNjNjEzNWU1Zjg4',\n 'ZTY0MzRmNzEtZjBjNy00YTAwLTg4MzYtZmRjMDNkMTVkNjc5',\n 'NmY0OTlkMmMtZmRjNy00YTYwLWI2YTEtNDIwZDJiZTRhNDNm',\n 'NTYwY2Y1OWEtNzg4ZS00MTkzLTg0MDItNjFmOWYzMTE0MDlm',\n 'MDE0NTIzYjItNjM2Zi00ZDVkLWIxMjEtOWFiZjMyZmZiMzY2',\n 'M2I0OTAzNmItMDU0Zi00NTIxLTkwZGMtNjMzZjI2NzNkMzdi',\n 'MzgzM2I2YWUtOGNlYy00MzM5LWE2M2EtZjAyNTY4ZmExZDZl',\n 'NjI2NzAyZDItN2RjYS00ZmRhLTg1NzAtNjg4NDA2MzU3NzRl',\n 'ZTg4YmJiMjctOGE0Zi00YzFiLWFlYzYtN2EwODk1YjZmM2Fk',\n 'OGQ1ODQ2OGUtNDc5Mi00NTUwLWI3NzAtZDMxODFlZjg5OTYy',\n 'ZjRlNzMzZGEtYWRkMi00MzgzLWJiMGYtNTU0ZGUwMzdmNzVl',\n 'ZjY5ZTlhOTItMjIxMy00NjVmLTg3YTktN2NjOWU5NDYyNWJh',\n 'NjIzNTE0ZjctMjAyZC00NWI4LTlhZTktMzFmOWI3Y2IxYWNl',\n 'YzkyYmQ0MjMtOTcwOC00ZWYyLTk2ZGUtMWJjMzQyOWM1ZGUx',\n 'NzNlYjU3NWMtYzlhZC00NTIwLTlhZGEtYWFjNTJkMmI5YzBl',\n 'ZDdlMzBhYzctMjA2YS00MWFmLThjMzAtYTQ1M2U4OGE5Mjg2',\n 'OTk0NGE5ZWMtZDhmZi00MTlhLWFiNTgtMWY0ZWE2OWI4ODcx',\n 'MTZmNTQ4YjAtNzNlNS00YTQ2LWEwODctN2Q2MDRhZjRiYWUz',\n 'YjYxYzdmODUtNWY0Zi00ODhlLWE0MjQtMDVhYzhlZDYxZmU4',\n 'MDkyYWJiMzQtNjg0MC00ZGU5LTk4Y2ItOTM5MTIzOWU3ODNh',\n 'ODkxZGQ3NjktNDZhOC00ZDg1LTgzYzAtMTczMjRhZjQ2OGI1',\n 'YTU5ZWJkZGMtYmE3YS00NzFiLTk2Y2YtNGY4N2JkYjFiNjBj',\n 'Y2Q5YjkxZDctNzIwYS00N2Q0LTljMjktMjgzNTk0OTJhZmRi',\n 'MWZmYTZkN2UtYzAzNy00NzBiLWJmNDItMzAyNDJkMjRlOTYw',\n 'ZGUzMTA4MjYtNGQ0Ny00ZjRiLThjOGEtOWM1MWYzZjcwOTg1',\n 'MzBjYjFhYWQtNDllMi00MmEyLTlkYzQtMjhmMTRjNTVkY2Rk',\n 'MmFiYzIwNWUtYWM2Ny00MjkwLWFlOGItMmQ1MDQ5NDk3MTJl',\n 'YTNlZTA2YTQtYzIzZi00MDc1LTkwMjktMTlhMGY0ZmE1YTIy']"
     },
     "execution_count": 11,
     "metadata": {},
     "output_type": "execute_result"
    }
   ],
   "source": [
    "vector_store.add_documents(documents=docs)"
   ],
   "metadata": {
    "collapsed": false
   }
  },
  {
   "cell_type": "markdown",
   "source": [
    "## Similarity Searches\n",
    "\n",
    "With Azure AI Search, we can now perform similarity searches on the documents we've indexed.\n",
    "\n",
    "### Simple Similarity search"
   ],
   "metadata": {
    "collapsed": false
   }
  },
  {
   "cell_type": "code",
   "execution_count": 12,
   "outputs": [
    {
     "name": "stdout",
     "output_type": "stream",
     "text": [
      "\"LangChain's (the company's) goal is to make it as easy as possible to develop LLM applications\"\n",
      "\n",
      "said Harrison Chase, co-founder and CEO of LangChain.\n",
      "\n",
      "\"To that end, we realized pretty early that what was needed - and missing - wasn't just an open source tool like LangChain, but also a complementary platform for managing these new types of applications. To that end, we built LangSmith - which is usable with or without LangChain and let's users easily debug, monitor, test, evaluate, and now (with the recently launched Hub) share and collaborate on their LLM applications.”\n",
      "\n",
      "\n",
      "\n",
      "What Are LangSmith Traces?\n",
      "--------------------------------------------------\n",
      "LangChain Expression Language creates chains that integrate seamlessly with LangSmith. Here is a trace for the above:\n",
      "\n",
      "You can inspect the trace here. Previously, when creating a custom chain there was actually a good bit of work to be done to make sure callbacks were passed through correctly so that it could be traced correctly. With LangChain Expression Language that happens automatically.\n",
      "\n",
      "We've also tried to make this as easy as possible for people to learn by creating a \"LangChain Teacher\" application that will walk you through the basics of getting started with LangChain Expression Language. You can access it here. We'll be open sourcing this soon.\n",
      "\n",
      "We'll also be doing a webinar on this tomorrow. We'll cover the standard interface it exposes, how to use it, and why to use it. Register for that here.\n",
      "--------------------------------------------------\n",
      "But these chains werenâ€™t really composable. Sure - we had SequentialChain, but that wasnâ€™t amazingly usable. And under the hood the other chains involved a lot of custom code, which made it tough to enforce a common interface for all chains, and ensure that all had equal levels of batch, streaming, and async support.\n",
      "\n",
      "Today weâ€™re excited to announce a new way of constructing chains. Weâ€™re calling this the LangChain Expression Language (in the same spirit as SQLAlchemyExpressionLanguage). This is a declarative way to truly compose chains - and get streaming, batch, and async support out of the box. You can use all the same existing LangChain constructs to create them.\n",
      "\n",
      "Weâ€™ve included guides on how to work with the interface as well as some examples of using it. Letâ€™s take a look at one of the more common ways below:\n",
      "--------------------------------------------------\n"
     ]
    }
   ],
   "source": [
    "docs = vector_store.search(\n",
    "    query=\"What is langchain?\",\n",
    "    k=3,\n",
    "    search_type=\"similarity\",\n",
    ")\n",
    "\n",
    "for doc in docs:\n",
    "    print(doc.page_content)\n",
    "    print('-' * 50)"
   ],
   "metadata": {
    "collapsed": false
   }
  },
  {
   "cell_type": "markdown",
   "source": [
    "### Similarity Search with scores"
   ],
   "metadata": {
    "collapsed": false
   }
  },
  {
   "cell_type": "code",
   "execution_count": 13,
   "outputs": [
    {
     "name": "stdout",
     "output_type": "stream",
     "text": [
      "(Document(page_content='The LangChain library has multiple SQL chains and even an SQL agent aimed at making interacting with data stored in SQL as easy as possible. Here are some relevant links:\\n\\nIntroduction\\n\\nMost of an enterprise’s data is traditionally stored in SQL databases. With the amount of valuable data stored there, business intelligence (BI) tools that make it easy to query and understand the data present there have risen in popularity. But what if you could just interact with a SQL database in natural language? With LLMs today, that is possible. LLMs have an understanding of SQL and are able to write it pretty well. However, there are several issues that make this a non-trivial task.\\n\\nThe Problems\\n\\nSo LLMs can write SQL - what more is needed?\\n\\nUnfortunately, a few things.', metadata={'source': '..\\\\data\\\\langchain_blog_posts\\\\blog.langchain.dev_llms-and-sql_.txt'}), 0.9001867)\n",
      "--------------------------------------------------\n"
     ]
    }
   ],
   "source": [
    "docs = vector_store.similarity_search_with_relevance_scores(\n",
    "    query=\"How to interact with SQL using langchain?\",\n",
    "    k=3,\n",
    "    score_threshold=.9,\n",
    ")\n",
    "\n",
    "for doc in docs:\n",
    "    print(doc)\n",
    "    print('-' * 50)"
   ],
   "metadata": {
    "collapsed": false
   }
  },
  {
   "cell_type": "markdown",
   "source": [
    "### Hybrid Search\n",
    "\n",
    "In a hybrid search, we can combine the similarity search with a keyword search. Vector and non-vector text fields are queried in parallel, results are merged, and top matches of the unified result set are returned."
   ],
   "metadata": {
    "collapsed": false
   }
  },
  {
   "cell_type": "code",
   "execution_count": 14,
   "outputs": [
    {
     "name": "stdout",
     "output_type": "stream",
     "text": [
      "The LangChain library provides different tools to interact with SQL databases which can be used to build and run queries based on natural language inputs. For example, the standard SQL Toolkit draws from standard best practices that have been extensively covered in this blogpost. However, there is still room for improvement when it comes to building a custom solution and adjusting the generic tools to the specific use case. The advantage of having a plug and play toolkit contrasts with having a solution that is not flexible enough for the user to incorporate their domain-specific knowledge about the databases.\n",
      "--------------------------------------------------\n",
      "The LangChain library has multiple SQL chains and even an SQL agent aimed at making interacting with data stored in SQL as easy as possible. Here are some relevant links:\n",
      "\n",
      "Introduction\n",
      "\n",
      "Most of an enterprise’s data is traditionally stored in SQL databases. With the amount of valuable data stored there, business intelligence (BI) tools that make it easy to query and understand the data present there have risen in popularity. But what if you could just interact with a SQL database in natural language? With LLMs today, that is possible. LLMs have an understanding of SQL and are able to write it pretty well. However, there are several issues that make this a non-trivial task.\n",
      "\n",
      "The Problems\n",
      "\n",
      "So LLMs can write SQL - what more is needed?\n",
      "\n",
      "Unfortunately, a few things.\n",
      "--------------------------------------------------\n",
      "URL: https://blog.langchain.dev/llms-and-sql/\n",
      "Title: LLMs and SQL\n",
      "\n",
      "Francisco Ingham and Jon Luo are two of the community members leading the change on the SQL integrations. We’re really excited to write this blog post with them going over all the tips and tricks they’ve learned doing so. We’re even more excited to announce that we’ll be doing an hour long webinar with them to discuss these learnings and field other related questions. This webinar will be on March 22nd - sign up at the below link:\n",
      "\n",
      "The LangChain library has multiple SQL chains and even an SQL agent aimed at making interacting with data stored in SQL as easy as possible. Here are some relevant links:\n",
      "\n",
      "Introduction\n",
      "--------------------------------------------------\n"
     ]
    }
   ],
   "source": [
    "docs = vector_store.hybrid_search(\n",
    "    query=\"How to interact with SQL using langchain?\",\n",
    "    k=3,\n",
    ")\n",
    "\n",
    "for doc in docs:\n",
    "    print(doc.page_content)\n",
    "    print('-' * 50)"
   ],
   "metadata": {
    "collapsed": false
   }
  },
  {
   "cell_type": "code",
   "execution_count": 15,
   "outputs": [
    {
     "name": "stdout",
     "output_type": "stream",
     "text": [
      "The LangChain library provides different tools to interact with SQL databases which can be used to build and run queries based on natural language inputs. For example, the standard SQL Toolkit draws from standard best practices that have been extensively covered in this blogpost. However, there is still room for improvement when it comes to building a custom solution and adjusting the generic tools to the specific use case. The advantage of having a plug and play toolkit contrasts with having a solution that is not flexible enough for the user to incorporate their domain-specific knowledge about the databases.\n",
      "--------------------------------------------------\n",
      "The LangChain library has multiple SQL chains and even an SQL agent aimed at making interacting with data stored in SQL as easy as possible. Here are some relevant links:\n",
      "\n",
      "Introduction\n",
      "\n",
      "Most of an enterprise’s data is traditionally stored in SQL databases. With the amount of valuable data stored there, business intelligence (BI) tools that make it easy to query and understand the data present there have risen in popularity. But what if you could just interact with a SQL database in natural language? With LLMs today, that is possible. LLMs have an understanding of SQL and are able to write it pretty well. However, there are several issues that make this a non-trivial task.\n",
      "\n",
      "The Problems\n",
      "\n",
      "So LLMs can write SQL - what more is needed?\n",
      "\n",
      "Unfortunately, a few things.\n",
      "--------------------------------------------------\n",
      "URL: https://blog.langchain.dev/llms-and-sql/\n",
      "Title: LLMs and SQL\n",
      "\n",
      "Francisco Ingham and Jon Luo are two of the community members leading the change on the SQL integrations. We’re really excited to write this blog post with them going over all the tips and tricks they’ve learned doing so. We’re even more excited to announce that we’ll be doing an hour long webinar with them to discuss these learnings and field other related questions. This webinar will be on March 22nd - sign up at the below link:\n",
      "\n",
      "The LangChain library has multiple SQL chains and even an SQL agent aimed at making interacting with data stored in SQL as easy as possible. Here are some relevant links:\n",
      "\n",
      "Introduction\n",
      "--------------------------------------------------\n"
     ]
    }
   ],
   "source": [
    "docs = vector_store.semantic_hybrid_search(\n",
    "    query=\"How to interact with SQL using langchain?\",\n",
    "    k=3,\n",
    ")\n",
    "\n",
    "for doc in docs:\n",
    "    print(doc.page_content)\n",
    "    print('-' * 50)"
   ],
   "metadata": {
    "collapsed": false
   }
  },
  {
   "cell_type": "markdown",
   "source": [
    "## Build a QA Chain"
   ],
   "metadata": {
    "collapsed": false
   }
  },
  {
   "cell_type": "code",
   "execution_count": 32,
   "outputs": [
    {
     "name": "stdout",
     "output_type": "stream",
     "text": [
      "The LangChain library provides tools to interact with SQL databases, including SQL chains and an SQL agent. To connect LangChain to SQL, you can use the LangChain Expression Language, which allows you to compose chains and provides streaming, batch, and async support. Here is an example of how to connect LangChain to SQL:\n",
      "\n",
      "```\n",
      "from langchain import SQLAgent\n",
      "\n",
      "# Create an instance of the SQLAgent\n",
      "agent = SQLAgent()\n",
      "\n",
      "# Connect to the SQL database\n",
      "agent.connect(database='your_database', username='your_username', password='your_password')\n",
      "\n",
      "# Execute a SQL query\n",
      "result = agent.execute_query('SELECT * FROM your_table')\n",
      "\n",
      "# Print the result\n",
      "print(result)\n",
      "```\n",
      "\n",
      "Please note that this code is a simplified example and you may need to adjust it based on your specific use case and database configuration.\n"
     ]
    }
   ],
   "source": [
    "from langchain_openai import AzureChatOpenAI\n",
    "from langchain_core.output_parsers import StrOutputParser\n",
    "from langchain_core.runnables import RunnablePassthrough, RunnableParallel\n",
    "from langchain_core.prompts import PromptTemplate\n",
    "\n",
    "llm = AzureChatOpenAI(\n",
    "    deployment_name=os.getenv('MODEL_DEPLOYMENT_NAME'),\n",
    "    openai_api_version=openai_api_version,\n",
    "    temperature=0.,\n",
    "    max_tokens=1024\n",
    ")\n",
    "\n",
    "vector_store.search_type = \"similarity\"\n",
    "retriever = vector_store.as_retriever(search_kwargs={\"k\": 5})\n",
    "\n",
    "template = \"\"\"Use the following pieces of context to answer the question at the end.\n",
    "Use three sentences maximum and keep the answer as concise as possible.\n",
    "Don't try to make up the answer, only use the context to answer the question.\n",
    "The pieces of context refer to langchain.\n",
    "\n",
    "Context:\n",
    "{context}\n",
    "\n",
    "Question: {question}\n",
    "Helpful Answer:\"\"\"\n",
    "\n",
    "prompt = PromptTemplate.from_template(template)\n",
    "\n",
    "qa_chain_base = (\n",
    "    RunnableParallel(\n",
    "        {\"context\": retriever, \"question\": RunnablePassthrough()}\n",
    "    )\n",
    "    | prompt\n",
    "    | llm\n",
    "    | StrOutputParser()\n",
    ")\n",
    "\n",
    "question = \"Explain how to connect langchain to sql. Show me the code to do that\"\n",
    "print(qa_chain_base.invoke(question))"
   ],
   "metadata": {
    "collapsed": false
   }
  },
  {
   "cell_type": "markdown",
   "source": [
    "## Build a QA Chain with Reranking"
   ],
   "metadata": {
    "collapsed": false
   }
  },
  {
   "cell_type": "code",
   "execution_count": 33,
   "outputs": [
    {
     "name": "stdout",
     "output_type": "stream",
     "text": [
      "To connect LangChain to SQL, you can use the provided code snippet:\n",
      "\n",
      "```\n",
      "from langchain.agents import AgentExecutor, create_sql_agent\n",
      "from langchain.agents.agent_toolkits import SQLDatabaseToolkit\n",
      "from langchain.agents.agent_types import AgentType\n",
      "from langchain.chat_models import ChatOpenAI\n",
      "from langchain.llms.openai import OpenAI\n",
      "from langchain.sql_database import SQLDatabase\n",
      "\n",
      "def create_agent(db_uri, agent_type=AgentType.OPENAI_FUNCTIONS, verbose=VERBOSE_LANGCHAIN, temperature=0, model=\"gpt-3.5-turbo-0613\"):\n",
      "    db = SQLDatabase.from_uri(db_uri)\n",
      "    toolkit = SQLDatabaseToolkit(db=db, llm=OpenAI(temperature=temperature))\n",
      "    return create_sql_agent(\n",
      "        llm=ChatOpenAI(temperature=temperature, model=model),\n",
      "        toolkit=toolkit,\n",
      "        verbose=verbose,\n",
      "        agent_type=agent_type,\n",
      "    )\n",
      "```\n",
      "\n",
      "This code initializes the LangChain Agent and connects it to your SQL database. Make sure to use your OpenAI key for this, which should be kept private.\n"
     ]
    }
   ],
   "source": [
    "from langchain_openai import AzureChatOpenAI\n",
    "from langchain_core.output_parsers import StrOutputParser\n",
    "from langchain_core.runnables import RunnablePassthrough, RunnableParallel\n",
    "from langchain_core.prompts import PromptTemplate\n",
    "\n",
    "llm = AzureChatOpenAI(\n",
    "    deployment_name=os.getenv('MODEL_DEPLOYMENT_NAME'),\n",
    "    openai_api_version=openai_api_version,\n",
    "    temperature=0.,\n",
    "    max_tokens=1024\n",
    ")\n",
    "\n",
    "vector_store.search_type = \"semantic_hybrid\"\n",
    "retriever = vector_store.as_retriever(search_kwargs={\"k\": 5})\n",
    "\n",
    "template = \"\"\"Use the following pieces of context to answer the question at the end.\n",
    "Use three sentences maximum and keep the answer as concise as possible.\n",
    "Don't try to make up the answer, only use the context to answer the question.\n",
    "The pieces of context refer to langchain.\n",
    "\n",
    "Context:\n",
    "{context}\n",
    "\n",
    "Question: {question}\n",
    "Helpful Answer:\"\"\"\n",
    "\n",
    "prompt = PromptTemplate.from_template(template)\n",
    "\n",
    "qa_chain_base = (\n",
    "    RunnableParallel(\n",
    "        {\"context\": retriever, \"question\": RunnablePassthrough()}\n",
    "    )\n",
    "    | prompt\n",
    "    | llm\n",
    "    | StrOutputParser()\n",
    ")\n",
    "\n",
    "question = \"Explain how to connect langchain to sql. Show me the code to do that\"\n",
    "print(qa_chain_base.invoke(question))"
   ],
   "metadata": {
    "collapsed": false
   }
  },
  {
   "cell_type": "code",
   "execution_count": null,
   "outputs": [],
   "source": [],
   "metadata": {
    "collapsed": false
   }
  }
 ],
 "metadata": {
  "kernelspec": {
   "display_name": "Python 3",
   "language": "python",
   "name": "python3"
  },
  "language_info": {
   "codemirror_mode": {
    "name": "ipython",
    "version": 2
   },
   "file_extension": ".py",
   "mimetype": "text/x-python",
   "name": "python",
   "nbconvert_exporter": "python",
   "pygments_lexer": "ipython2",
   "version": "2.7.6"
  }
 },
 "nbformat": 4,
 "nbformat_minor": 0
}
