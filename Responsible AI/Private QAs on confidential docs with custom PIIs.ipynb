{
 "cells": [
  {
   "cell_type": "code",
   "execution_count": 1,
   "id": "5f58ad5b",
   "metadata": {},
   "outputs": [],
   "source": [
    "import os\n",
    "import warnings\n",
    "import pandas as pd\n",
    "import openai\n",
    "from openai import AzureOpenAI\n",
    "from typing import List, Dict\n",
    "from dotenv import load_dotenv, find_dotenv\n",
    "os.environ['CURL_CA_BUNDLE'] = ''\n",
    "os.environ[\"PROTOCOL_BUFFERS_PYTHON_IMPLEMENTATION\"] = \"python\"\n",
    "warnings.filterwarnings('ignore')\n",
    "pd.set_option('display.max_colwidth', None)\n",
    "_ = load_dotenv(find_dotenv())  # read local .env file\n",
    "openai_api_key = os.getenv(\"AZURE_OPENAI_KEY\")\n",
    "openai_api_version = '2023-08-01-preview'\n",
    "model_deployment_name = os.getenv('MODEL_DEPLOYMENT_NAME')\n",
    "openai_api_base = os.getenv(\"AZURE_OPENAI_ENDPOINT\") "
   ]
  },
  {
   "cell_type": "markdown",
   "id": "8585ffca",
   "metadata": {},
   "source": [
    "# 3. Private QAs on confidential docs with custom PIIs\n",
    "\n",
    "\n",
    "\n",
    "In this notebook we will explore a solution for anonymizing sensitive information within travel-related documents, ensuring privacy while allowing for question-answering capabilities. \n",
    "\n",
    "The primary focus is on anonymizing entities typically found in travel documents, such as Passenger Name Records (PNR) and E-TICKET details. However, the solution can be extended to any travel-specific sensitive entity.\n"
   ]
  },
  {
   "cell_type": "code",
   "execution_count": 2,
   "id": "3de26b52",
   "metadata": {},
   "outputs": [],
   "source": [
    "document_content = \"\"\"Date: October 19, 2021\n",
    "Claimant: John Doe,\n",
    "\n",
    "Subject: Claim Regarding Lost Luggage\n",
    "\n",
    "Hello Customer Service,\n",
    "\n",
    "My name is John Doe, and I need to report the loss of my luggage during a recent flight. This unfortunate incident occurred on October 19, 2021, and I'm reaching out to provide you with the necessary details.\n",
    "\n",
    "The flight information associated with this claim includes the Passenger Name Record (PNR) LHKQK9 and the E-ticket number 160-4837291830\n",
    "\n",
    "My contact information is as follows: phone number 999-888-7777 and email johndoe@example.com.\n",
    "\n",
    "In addition to the standard details of lost luggage, I want to highlight that the misplaced baggage contains crucial personal documents, such as my wallet that contains my credit card with number 4111 1111 1111 1111, which is registered under my name and linked to my bank account, PL61109010140000071219812874, driver's license with DL No: 999000680, Social Security Number 602-76-4532.\n",
    "\n",
    "I believe the luggage went missing during the handling process in Atlanta airport, and I noticed its absence upon reaching my destination. I kindly request your immediate attention to this matter and appreciate any efforts to locate and return my luggage promptly.\n",
    "\n",
    "Please treat this information with the utmost confidentiality and respect for my privacy. In case of any updates regarding my lost luggage, feel free to contact me via the provided phone number or email.\n",
    "\n",
    "I've informed my bank about the situation, and for any financial matters related to this incident, you can reach out to Victoria Cherry at support@bankname.com or her business phone: 987-654-3210.\n",
    "\n",
    "Your prompt assistance in resolving this matter is highly appreciated.\n",
    "\n",
    "Thank you for your attention.\n",
    "\n",
    "Sincerely,\n",
    "John Doe\n",
    "\"\"\""
   ]
  },
  {
   "cell_type": "code",
   "execution_count": 3,
   "id": "647c10e2",
   "metadata": {},
   "outputs": [
    {
     "name": "stdout",
     "output_type": "stream",
     "text": [
      "Date: October 19, 2021\n",
      "Claimant: John Doe,\n",
      "\n",
      "Subject: Claim Regarding Lost Luggage\n",
      "\n",
      "Hello Customer Service,\n",
      "\n",
      "My name is John Doe, and I need to report the loss of my luggage during a recent flight. This unfortunate incident occurred on October 19, 2021, and I'm reaching out to provide you with the necessary details.\n",
      "\n",
      "The flight information associated with this claim includes the Passenger Name Record (PNR) LHKQK9 and the E-ticket number 160-4837291830\n",
      "\n",
      "My contact information is as follows: phone number 999-888-7777 and email johndoe@example.com.\n",
      "\n",
      "In addition to the standard details of lost luggage, I want to highlight that the misplaced baggage contains crucial personal documents, such as my wallet that contains my credit card with number 4111 1111 1111 1111, which is registered under my name and linked to my bank account, PL61109010140000071219812874, driver's license with DL No: 999000680, Social Security Number 602-76-4532.\n",
      "\n",
      "I believe the luggage went missing during the handling process in Atlanta airport, and I noticed its absence upon reaching my destination. I kindly request your immediate attention to this matter and appreciate any efforts to locate and return my luggage promptly.\n",
      "\n",
      "Please treat this information with the utmost confidentiality and respect for my privacy. In case of any updates regarding my lost luggage, feel free to contact me via the provided phone number or email.\n",
      "\n",
      "I've informed my bank about the situation, and for any financial matters related to this incident, you can reach out to Victoria Cherry at support@bankname.com or her business phone: 987-654-3210.\n",
      "\n",
      "Your prompt assistance in resolving this matter is highly appreciated.\n",
      "\n",
      "Thank you for your attention.\n",
      "\n",
      "Sincerely,\n",
      "John Doe\n",
      "\n"
     ]
    }
   ],
   "source": [
    "from langchain.schema import Document\n",
    "\n",
    "documents = [Document(page_content=document_content)]\n",
    "print(document_content)"
   ]
  },
  {
   "cell_type": "markdown",
   "id": "576c88bc",
   "metadata": {},
   "source": [
    "We only have one document, so before we move on to creating a QA system, let's focus on its content to begin with.\n",
    "You may observe that the text contains several  PII values, some types occur repeatedly (names, phone numbers, emails), and some specific PIIs are repeated (John Doe)."
   ]
  },
  {
   "cell_type": "code",
   "execution_count": 4,
   "id": "7f06db0b",
   "metadata": {},
   "outputs": [],
   "source": [
    "# Util function for coloring the PII markers\n",
    "# NOTE: It will not be visible on documentation page, only in the notebook\n",
    "import re\n",
    "\n",
    "def print_colored_pii(string):\n",
    "    colored_string = re.sub(\n",
    "        r\"(<[^>]*>)\", lambda m: \"\\033[31m\" + m.group(1) + \"\\033[0m\", string\n",
    "    )\n",
    "    print(colored_string)"
   ]
  },
  {
   "cell_type": "markdown",
   "id": "18dff7c7",
   "metadata": {},
   "source": [
    "Let's proceed and try to anonymize the text with the default settings. For now, we don't replace the data with synthetic, we just\n",
    "mark it with markers (e.g. `<PERSON>`), so we set `add_default_faker_operators=False`:"
   ]
  },
  {
   "cell_type": "code",
   "execution_count": 5,
   "id": "d1ff6306",
   "metadata": {},
   "outputs": [
    {
     "name": "stdout",
     "output_type": "stream",
     "text": [
      "Date: \u001b[31m<DATE_TIME>\u001b[0m\n",
      "Claimant: \u001b[31m<PERSON>\u001b[0m,\n",
      "\n",
      "Subject: Claim Regarding Lost Luggage\n",
      "\n",
      "Hello Customer Service,\n",
      "\n",
      "My name is \u001b[31m<PERSON>\u001b[0m, and I need to report the loss of my luggage during a recent flight. This unfortunate incident occurred on \u001b[31m<DATE_TIME>\u001b[0m, and I'm reaching out to provide you with the necessary details.\n",
      "\n",
      "The flight information associated with this claim includes the Passenger Name Record (PNR) LHKQK9 and the E-ticket number 160-\u001b[31m<US_BANK_NUMBER>\u001b[0m\n",
      "\n",
      "My contact information is as follows: phone number \u001b[31m<PHONE_NUMBER>\u001b[0m and email \u001b[31m<EMAIL_ADDRESS>\u001b[0m.\n",
      "\n",
      "In addition to the standard details of lost luggage, I want to highlight that the misplaced baggage contains crucial personal documents, such as my wallet that contains my credit card with number \u001b[31m<CREDIT_CARD>\u001b[0m, which is registered under my name and linked to my bank account, \u001b[31m<IBAN_CODE>\u001b[0m, driver's license with DL No: \u001b[31m<US_DRIVER_LICENSE>\u001b[0m, Social Security Number \u001b[31m<US_SSN>\u001b[0m.\n",
      "\n",
      "I believe the luggage went missing during the handling process in \u001b[31m<LOCATION>\u001b[0m airport, and I noticed its absence upon reaching my destination. I kindly request your immediate attention to this matter and appreciate any efforts to locate and return my luggage promptly.\n",
      "\n",
      "Please treat this information with the utmost confidentiality and respect for my privacy. In case of any updates regarding my lost luggage, feel free to contact me via the provided phone number or email.\n",
      "\n",
      "I've informed my bank about the situation, and for any financial matters related to this incident, you can reach out to \u001b[31m<PERSON_2>\u001b[0m at \u001b[31m<EMAIL_ADDRESS_2>\u001b[0m or her business phone: \u001b[31m<UK_NHS>\u001b[0m.\n",
      "\n",
      "Your prompt assistance in resolving this matter is highly appreciated.\n",
      "\n",
      "Thank you for your attention.\n",
      "\n",
      "Sincerely,\n",
      "\u001b[31m<PERSON>\u001b[0m\n",
      "\n"
     ]
    }
   ],
   "source": [
    "from langchain_experimental.data_anonymizer import PresidioReversibleAnonymizer\n",
    "\n",
    "anonymizer = PresidioReversibleAnonymizer(\n",
    "    add_default_faker_operators=False,\n",
    ")\n",
    "\n",
    "print_colored_pii(anonymizer.anonymize(document_content))"
   ]
  },
  {
   "cell_type": "markdown",
   "id": "9f462fa1",
   "metadata": {},
   "source": [
    "Let's also look at the mapping between original and anonymized values:"
   ]
  },
  {
   "cell_type": "code",
   "execution_count": 7,
   "id": "d5b96466",
   "metadata": {},
   "outputs": [
    {
     "name": "stdout",
     "output_type": "stream",
     "text": [
      "{'CREDIT_CARD': {'<CREDIT_CARD>': '4111 1111 1111 1111'},\n",
      " 'DATE_TIME': {'<DATE_TIME>': 'October 19, 2021'},\n",
      " 'EMAIL_ADDRESS': {'<EMAIL_ADDRESS>': 'johndoe@example.com',\n",
      "                   '<EMAIL_ADDRESS_2>': 'support@bankname.com'},\n",
      " 'IBAN_CODE': {'<IBAN_CODE>': 'PL61109010140000071219812874'},\n",
      " 'LOCATION': {'<LOCATION>': 'Atlanta'},\n",
      " 'PERSON': {'<PERSON>': 'John Doe', '<PERSON_2>': 'Victoria Cherry'},\n",
      " 'PHONE_NUMBER': {'<PHONE_NUMBER>': '999-888-7777'},\n",
      " 'UK_NHS': {'<UK_NHS>': '987-654-3210'},\n",
      " 'US_BANK_NUMBER': {'<US_BANK_NUMBER>': '4837291830'},\n",
      " 'US_DRIVER_LICENSE': {'<US_DRIVER_LICENSE>': '999000680'},\n",
      " 'US_SSN': {'<US_SSN>': '602-76-4532'}}\n"
     ]
    }
   ],
   "source": [
    "import pprint\n",
    "\n",
    "pprint.pprint(anonymizer.deanonymizer_mapping)"
   ]
  },
  {
   "cell_type": "markdown",
   "id": "c68bda29",
   "metadata": {},
   "source": [
    "In general anonymizer works pretty well, but we can observe two things to improve here:\n",
    "\n",
    "1. PNR - the PNR has unique pattern, which is not by default part of anonymizer recognizers. The value *LHKQK9* is not anonymized.\n",
    "2. E-TICKET. The E-Ticket has a unique pattern, which is not by default part of anonymizer recognizers. The value 160-4837291830 is detected as 160-<US_BANK_number>\n",
    "\n",
    "\n",
    "The solution is simple: we need to add a new recognizers to the anonymizer. You can read more about it in [presidio documentation](https://microsoft.github.io/presidio/analyzer/adding_recognizers/).\n",
    "\n",
    "\n",
    "Let's add new recognizers:"
   ]
  },
  {
   "cell_type": "code",
   "execution_count": 8,
   "id": "d39cbdb6",
   "metadata": {},
   "outputs": [],
   "source": [
    "from presidio_analyzer import Pattern, PatternRecognizer\n",
    "\n",
    "pnr_patern = Pattern(\n",
    "    name=\"pnr_patern\",\n",
    "    regex=\"[A-Z0-9]{5}\\d{1}\",\n",
    "    score=1,\n",
    ")\n",
    "\n",
    "\n",
    "ticket_patern = Pattern(\n",
    "    name=\"e-ticket_patern\",\n",
    "    regex=\"[0-9]{3}(-)?[0-9]{10}\",\n",
    "    score=1,\n",
    ")\n",
    "\n",
    "# Define the recognizer with one or more patterns\n",
    "ticket_recognizer = PatternRecognizer(\n",
    "    supported_entity=\"E-TICKET\", patterns=[ticket_patern]\n",
    ")\n",
    "# Define the recognizer with one or more patterns\n",
    "pnr_recognizer = PatternRecognizer(\n",
    "    supported_entity=\"PNR\", patterns=[pnr_patern]\n",
    ")\n",
    "anonymizer.add_recognizer(ticket_recognizer)\n",
    "anonymizer.add_recognizer(pnr_recognizer)\n"
   ]
  },
  {
   "cell_type": "markdown",
   "id": "584b04a7",
   "metadata": {},
   "source": [
    "And now, we're adding recognizers to our anonymizer:"
   ]
  },
  {
   "cell_type": "code",
   "execution_count": 9,
   "id": "ca586eda",
   "metadata": {},
   "outputs": [],
   "source": [
    "anonymizer.add_recognizer(ticket_recognizer)\n",
    "anonymizer.add_recognizer(pnr_recognizer)\n"
   ]
  },
  {
   "cell_type": "markdown",
   "id": "faee0198",
   "metadata": {},
   "source": [
    "Note that our anonymization instance remembers previously detected and anonymized values, including those that were not detected correctly (e.g., PNR). So it's worth removing this value, or resetting the entire mapping now that our recognizers have been updated:"
   ]
  },
  {
   "cell_type": "code",
   "execution_count": 10,
   "id": "df9d5e54",
   "metadata": {},
   "outputs": [],
   "source": [
    "anonymizer.reset_deanonymizer_mapping()"
   ]
  },
  {
   "cell_type": "code",
   "execution_count": 11,
   "id": "fed229cf",
   "metadata": {},
   "outputs": [
    {
     "name": "stdout",
     "output_type": "stream",
     "text": [
      "Date: \u001b[31m<DATE_TIME>\u001b[0m\n",
      "Claimant: \u001b[31m<PERSON>\u001b[0m,\n",
      "\n",
      "Subject: Claim Regarding Lost Luggage\n",
      "\n",
      "Hello Customer Service,\n",
      "\n",
      "My name is \u001b[31m<PERSON>\u001b[0m, and I need to report the loss of my luggage during a recent flight. This unfortunate incident occurred on \u001b[31m<DATE_TIME>\u001b[0m, and I'm reaching out to provide you with the necessary details.\n",
      "\n",
      "The flight information associated with this claim includes the Passenger Name Record (PNR) \u001b[31m<PNR>\u001b[0m and the E-ticket number \u001b[31m<E-TICKET>\u001b[0m\n",
      "\n",
      "My contact information is as follows: phone number \u001b[31m<PHONE_NUMBER>\u001b[0m and email \u001b[31m<EMAIL_ADDRESS>\u001b[0m.\n",
      "\n",
      "In addition to the standard details of lost luggage, I want to highlight that the misplaced baggage contains crucial personal documents, such as my wallet that contains my credit card with number \u001b[31m<CREDIT_CARD>\u001b[0m, which is registered under my name and linked to my bank account, \u001b[31m<IBAN_CODE>\u001b[0m, driver's license with DL No: \u001b[31m<US_DRIVER_LICENSE>\u001b[0m, Social Security Number \u001b[31m<US_SSN>\u001b[0m.\n",
      "\n",
      "I believe the luggage went missing during the handling process in \u001b[31m<LOCATION>\u001b[0m airport, and I noticed its absence upon reaching my destination. I kindly request your immediate attention to this matter and appreciate any efforts to locate and return my luggage promptly.\n",
      "\n",
      "Please treat this information with the utmost confidentiality and respect for my privacy. In case of any updates regarding my lost luggage, feel free to contact me via the provided phone number or email.\n",
      "\n",
      "I've informed my bank about the situation, and for any financial matters related to this incident, you can reach out to \u001b[31m<PERSON_2>\u001b[0m at \u001b[31m<EMAIL_ADDRESS_2>\u001b[0m or her business phone: \u001b[31m<UK_NHS>\u001b[0m.\n",
      "\n",
      "Your prompt assistance in resolving this matter is highly appreciated.\n",
      "\n",
      "Thank you for your attention.\n",
      "\n",
      "Sincerely,\n",
      "\u001b[31m<PERSON>\u001b[0m\n",
      "\n"
     ]
    }
   ],
   "source": [
    "print_colored_pii(anonymizer.anonymize(document_content))"
   ]
  },
  {
   "cell_type": "markdown",
   "id": "35d80cf4",
   "metadata": {},
   "source": [
    "As you can see, our new recognizers work as expected. The anonymizer has replaced the PNR and E-TICKET entities with the <PNR> and <E-TICKET> markers, and the deanonymizer mapping has been updated accordingly.\n",
    "\n",
    "Now, when all PII values are detected correctly, we can proceed to the next step, which is replacing the original values with synthetic ones. To do this, we need to set add_default_faker_operators=True (or just remove this parameter, because it's set to True by default):"
   ]
  },
  {
   "cell_type": "code",
   "execution_count": 12,
   "id": "58d1fbad",
   "metadata": {},
   "outputs": [
    {
     "name": "stdout",
     "output_type": "stream",
     "text": [
      "{'CREDIT_CARD': {'<CREDIT_CARD>': '4111 1111 1111 1111'},\n",
      " 'DATE_TIME': {'<DATE_TIME>': 'October 19, 2021'},\n",
      " 'E-TICKET': {'<E-TICKET>': '160-4837291830'},\n",
      " 'EMAIL_ADDRESS': {'<EMAIL_ADDRESS>': 'johndoe@example.com',\n",
      "                   '<EMAIL_ADDRESS_2>': 'support@bankname.com'},\n",
      " 'IBAN_CODE': {'<IBAN_CODE>': 'PL61109010140000071219812874'},\n",
      " 'LOCATION': {'<LOCATION>': 'Atlanta'},\n",
      " 'PERSON': {'<PERSON>': 'John Doe', '<PERSON_2>': 'Victoria Cherry'},\n",
      " 'PHONE_NUMBER': {'<PHONE_NUMBER>': '999-888-7777'},\n",
      " 'PNR': {'<PNR>': 'LHKQK9'},\n",
      " 'UK_NHS': {'<UK_NHS>': '987-654-3210'},\n",
      " 'US_DRIVER_LICENSE': {'<US_DRIVER_LICENSE>': '999000680'},\n",
      " 'US_SSN': {'<US_SSN>': '602-76-4532'}}\n"
     ]
    }
   ],
   "source": [
    "pprint.pprint(anonymizer.deanonymizer_mapping)"
   ]
  },
  {
   "cell_type": "code",
   "execution_count": 13,
   "id": "8c2001fb",
   "metadata": {},
   "outputs": [
    {
     "name": "stdout",
     "output_type": "stream",
     "text": [
      "Date: 1983-01-20\n",
      "Claimant: William Roman,\n",
      "\n",
      "Subject: Claim Regarding Lost Luggage\n",
      "\n",
      "Hello Customer Service,\n",
      "\n",
      "My name is William Roman, and I need to report the loss of my luggage during a recent flight. This unfortunate incident occurred on 1983-01-20, and I'm reaching out to provide you with the necessary details.\n",
      "\n",
      "The flight information associated with this claim includes the Passenger Name Record (PNR) \u001b[31m<PNR>\u001b[0m and the E-ticket number \u001b[31m<E-TICKET>\u001b[0m\n",
      "\n",
      "My contact information is as follows: phone number +1-318-645-1462x70482 and email ddavis@example.org.\n",
      "\n",
      "In addition to the standard details of lost luggage, I want to highlight that the misplaced baggage contains crucial personal documents, such as my wallet that contains my credit card with number 4672423884966, which is registered under my name and linked to my bank account, GB29HDMI75255341928327, driver's license with DL No: 966647391, Social Security Number 368-45-9892.\n",
      "\n",
      "I believe the luggage went missing during the handling process in Port Matthew airport, and I noticed its absence upon reaching my destination. I kindly request your immediate attention to this matter and appreciate any efforts to locate and return my luggage promptly.\n",
      "\n",
      "Please treat this information with the utmost confidentiality and respect for my privacy. In case of any updates regarding my lost luggage, feel free to contact me via the provided phone number or email.\n",
      "\n",
      "I've informed my bank about the situation, and for any financial matters related to this incident, you can reach out to Abigail Shaffer at hoffmanjennifer@example.net or her business phone: 2812140441.\n",
      "\n",
      "Your prompt assistance in resolving this matter is highly appreciated.\n",
      "\n",
      "Thank you for your attention.\n",
      "\n",
      "Sincerely,\n",
      "William Roman\n",
      "\n"
     ]
    }
   ],
   "source": [
    "anonymizer = PresidioReversibleAnonymizer(\n",
    "    add_default_faker_operators=True,\n",
    "    # Faker seed is used here to make sure the same fake data is generated for the test purposes\n",
    "    # In production, it is recommended to remove the faker_seed parameter (it will default to None)\n",
    "    faker_seed=42,\n",
    ")\n",
    "\n",
    "anonymizer.add_recognizer(ticket_recognizer)\n",
    "anonymizer.add_recognizer(pnr_recognizer)\n",
    "\n",
    "print_colored_pii(anonymizer.anonymize(document_content))"
   ]
  },
  {
   "cell_type": "markdown",
   "id": "c346ef58",
   "metadata": {},
   "source": [
    "As you can see, almost all values have been replaced with synthetic ones. The only exception is the PNR the E-TICKET, which are not supported by the default faker operators. We can add new operators to the anonymizer, which will generate random data. "
   ]
  },
  {
   "cell_type": "code",
   "execution_count": 14,
   "id": "5aa89cb7",
   "metadata": {},
   "outputs": [
    {
     "data": {
      "text/plain": [
       "'U5L760'"
      ]
     },
     "execution_count": 14,
     "metadata": {},
     "output_type": "execute_result"
    }
   ],
   "source": [
    "from faker import Faker\n",
    "\n",
    "fake = Faker()\n",
    "\n",
    "\n",
    "def fake_pnr(_=None):\n",
    "    return fake.bothify(text=\"?#?###\").upper()\n",
    "\n",
    "\n",
    "fake_pnr()"
   ]
  },
  {
   "cell_type": "code",
   "execution_count": 15,
   "id": "44e0b91b",
   "metadata": {},
   "outputs": [],
   "source": [
    "def fake_e_ticket(_=None):\n",
    "    return fake.bothify(text=\"###-#########\").upper()\n"
   ]
  },
  {
   "cell_type": "code",
   "execution_count": 16,
   "id": "3c3d1ca7",
   "metadata": {},
   "outputs": [
    {
     "data": {
      "text/plain": [
       "'397-684010260'"
      ]
     },
     "execution_count": 16,
     "metadata": {},
     "output_type": "execute_result"
    }
   ],
   "source": [
    "fake_e_ticket()"
   ]
  },
  {
   "cell_type": "markdown",
   "id": "11ab8d1d",
   "metadata": {},
   "source": [
    "### Let's add newly created operators to the anonymizer:"
   ]
  },
  {
   "cell_type": "code",
   "execution_count": 17,
   "id": "315f4d64",
   "metadata": {},
   "outputs": [],
   "source": [
    "from presidio_anonymizer.entities import OperatorConfig\n",
    "\n",
    "new_operators = {\n",
    "    \"PNR\": OperatorConfig(\"custom\", {\"lambda\": fake_pnr}),\n",
    "    \"E-TICKET\": OperatorConfig(\"custom\", {\"lambda\": fake_e_ticket}),\n",
    "}\n",
    "\n",
    "anonymizer.add_operators(new_operators)"
   ]
  },
  {
   "cell_type": "code",
   "execution_count": 18,
   "id": "71dd463a",
   "metadata": {},
   "outputs": [],
   "source": [
    "anonymizer.reset_deanonymizer_mapping()\n"
   ]
  },
  {
   "cell_type": "markdown",
   "id": "072ad660",
   "metadata": {},
   "source": [
    "And anonymize everything once again:"
   ]
  },
  {
   "cell_type": "code",
   "execution_count": 19,
   "id": "bf115907",
   "metadata": {},
   "outputs": [
    {
     "name": "stdout",
     "output_type": "stream",
     "text": [
      "Date: 2017-09-25\n",
      "Claimant: Angel Lewis MD,\n",
      "\n",
      "Subject: Claim Regarding Lost Luggage\n",
      "\n",
      "Hello Customer Service,\n",
      "\n",
      "My name is Angel Lewis MD, and I need to report the loss of my luggage during a recent flight. This unfortunate incident occurred on 2017-09-25, and I'm reaching out to provide you with the necessary details.\n",
      "\n",
      "The flight information associated with this claim includes the Passenger Name Record (PNR) J2W275 and the E-ticket number 265-455862605\n",
      "\n",
      "My contact information is as follows: phone number (719)639-9091x6998 and email rileyamy@example.net.\n",
      "\n",
      "In addition to the standard details of lost luggage, I want to highlight that the misplaced baggage contains crucial personal documents, such as my wallet that contains my credit card with number 6573602606474689, which is registered under my name and linked to my bank account, GB70DVNL66701065133387, driver's license with DL No: 172370545, Social Security Number 725-81-0965.\n",
      "\n",
      "I believe the luggage went missing during the handling process in New Angelashire airport, and I noticed its absence upon reaching my destination. I kindly request your immediate attention to this matter and appreciate any efforts to locate and return my luggage promptly.\n",
      "\n",
      "Please treat this information with the utmost confidentiality and respect for my privacy. In case of any updates regarding my lost luggage, feel free to contact me via the provided phone number or email.\n",
      "\n",
      "I've informed my bank about the situation, and for any financial matters related to this incident, you can reach out to Jessica Holmes at sarahcampos@example.net or her business phone: 8128575500.\n",
      "\n",
      "Your prompt assistance in resolving this matter is highly appreciated.\n",
      "\n",
      "Thank you for your attention.\n",
      "\n",
      "Sincerely,\n",
      "Angel Lewis MD\n",
      "\n"
     ]
    }
   ],
   "source": [
    "anonymizer.reset_deanonymizer_mapping()\n",
    "print_colored_pii(anonymizer.anonymize(document_content))"
   ]
  },
  {
   "cell_type": "code",
   "execution_count": 20,
   "id": "329ae152",
   "metadata": {},
   "outputs": [
    {
     "name": "stdout",
     "output_type": "stream",
     "text": [
      "{'CREDIT_CARD': {'6573602606474689': '4111 1111 1111 1111'},\n",
      " 'DATE_TIME': {'2017-09-25': 'October 19, 2021'},\n",
      " 'E-TICKET': {'265-455862605': '160-4837291830'},\n",
      " 'EMAIL_ADDRESS': {'rileyamy@example.net': 'johndoe@example.com',\n",
      "                   'sarahcampos@example.net': 'support@bankname.com'},\n",
      " 'IBAN_CODE': {'GB70DVNL66701065133387': 'PL61109010140000071219812874'},\n",
      " 'LOCATION': {'New Angelashire': 'Atlanta'},\n",
      " 'PERSON': {'Angel Lewis MD': 'John Doe', 'Jessica Holmes': 'Victoria Cherry'},\n",
      " 'PHONE_NUMBER': {'(719)639-9091x6998': '999-888-7777'},\n",
      " 'PNR': {'J2W275': 'LHKQK9'},\n",
      " 'UK_NHS': {'8128575500': '987-654-3210'},\n",
      " 'US_DRIVER_LICENSE': {'172370545': '999000680'},\n",
      " 'US_SSN': {'725-81-0965': '602-76-4532'}}\n"
     ]
    }
   ],
   "source": [
    "pprint.pprint(anonymizer.deanonymizer_mapping)"
   ]
  },
  {
   "cell_type": "markdown",
   "id": "05f30614",
   "metadata": {},
   "source": [
    "Voilà! Now all values are replaced with synthetic ones. Note that the deanonymizer mapping has been updated accordingly."
   ]
  },
  {
   "cell_type": "markdown",
   "id": "c195bd2c",
   "metadata": {},
   "source": [
    "Let's now wrap it up together and create full question-answering system, based on PresidioReversibleAnonymizer and LangChain Expression Language (LCEL)."
   ]
  },
  {
   "cell_type": "code",
   "execution_count": 21,
   "id": "60ca5541",
   "metadata": {},
   "outputs": [],
   "source": [
    "# 1. Initialize anonymizer\n",
    "anonymizer = PresidioReversibleAnonymizer(\n",
    "    # Faker seed is used here to make sure the same fake data is generated for the test purposes\n",
    "    # In production, it is recommended to remove the faker_seed parameter (it will default to None)\n",
    "    faker_seed=42,\n",
    ")\n",
    "\n",
    "anonymizer.add_recognizer(pnr_recognizer)\n",
    "anonymizer.add_recognizer(ticket_recognizer)\n",
    "\n",
    "anonymizer.add_operators(new_operators)"
   ]
  },
  {
   "cell_type": "code",
   "execution_count": 22,
   "id": "84637d71",
   "metadata": {},
   "outputs": [],
   "source": [
    "import openai\n",
    "from langchain_openai import AzureOpenAIEmbeddings\n",
    "\n",
    "embeddings = AzureOpenAIEmbeddings(\n",
    "    api_key = openai_api_key,\n",
    "    azure_deployment=os.getenv('EMBEDDING_DEPLOYMENT_NAME'),\n",
    "    openai_api_version=openai_api_version\n",
    ")"
   ]
  },
  {
   "cell_type": "code",
   "execution_count": 23,
   "id": "dec8ce23",
   "metadata": {},
   "outputs": [],
   "source": [
    "from langchain.text_splitter import RecursiveCharacterTextSplitter\n",
    "from langchain.vectorstores import Chroma\n",
    "\n",
    "# 2. Load the data: In our case data's already loaded\n",
    "\n",
    "\n",
    "# 3. Anonymize the data before indexing\n",
    "for doc in documents:\n",
    "    doc.page_content = anonymizer.anonymize(doc.page_content)\n",
    "\n",
    "# 4. Split the documents into chunks\n",
    "text_splitter = RecursiveCharacterTextSplitter(chunk_size=1000, chunk_overlap=100)\n",
    "chunks = text_splitter.split_documents(documents)\n",
    "\n",
    "# 5. Index the chunks (using OpenAI embeddings, because the data is already anonymized)\n",
    "vectorstore = Chroma.from_documents(documents=chunks, embedding=embeddings)\n",
    "\n",
    "\n",
    "retriever = vectorstore.as_retriever()"
   ]
  },
  {
   "cell_type": "code",
   "execution_count": 24,
   "id": "784078af",
   "metadata": {},
   "outputs": [],
   "source": [
    "# this is the name of the deployments you created in the Azure portal within the above resource\n",
    "from typing import List, Dict\n",
    "\n",
    "# gets the API Key from environment variable AZURE_OPENAI_API_KEY\n",
    "from openai import AzureOpenAI\n",
    "\n",
    "# gets the API Key from environment variable AZURE_OPENAI_API_KEY\n",
    "client = AzureOpenAI(\n",
    "    # https://learn.microsoft.com/en-us/azure/ai-services/openai/reference#rest-api-versioning\n",
    "    api_version=openai_api_version,\n",
    "    api_key = openai_api_key,\n",
    "    # https://learn.microsoft.com/en-us/azure/cognitive-services/openai/how-to/create-resource?pivots=web-portal#create-a-resource\n",
    "    azure_endpoint=openai_api_base,\n",
    ")\n",
    "\n",
    "\n",
    "# this is the name of the deployments you created in the Azure portal within the above resource\n",
    "from typing import List, Dict\n",
    "\n",
    "def get_chat_with_conversation(\n",
    "        text,\n",
    "        temperature: float = 0.2,\n",
    "        **model_kwargs\n",
    ") -> str:\n",
    "    try:\n",
    "        \n",
    "        messages = [\n",
    "            {\"role\": \"system\", \"content\": '\"\"\"'+ str(text) + '\"\"\"'}\n",
    "        ]\n",
    "        response = client.chat.completions.create(model=model_deployment_name,\n",
    "                                                  messages=messages)\n",
    " \n",
    "        return response.choices[0].message.content\n",
    "    except openai.OpenAIError as e: # this is the base class of any openai exception\n",
    "        print(f\"The call to the Chat Completion API failed as a consequence \"\n",
    "              f\"of the following exception: {e}\")\n",
    "\n",
    "        "
   ]
  },
  {
   "cell_type": "markdown",
   "id": "87725c4f",
   "metadata": {},
   "source": [
    "<br>\n",
    "<img src=\"assets/QA1.png\" width=\"650\" align=\"center\">\n"
   ]
  },
  {
   "cell_type": "code",
   "execution_count": 25,
   "id": "0a605e00",
   "metadata": {},
   "outputs": [],
   "source": [
    "from operator import itemgetter\n",
    "\n",
    "from langchain.prompts import PromptTemplate\n",
    "from langchain.schema.output_parser import StrOutputParser\n",
    "from langchain.schema.runnable import RunnableLambda, RunnableMap, RunnablePassthrough\n",
    "\n",
    "# 6. Create anonymizer chain\n",
    "\n",
    "template = \"\"\"Answer the question based only on the following context:\n",
    "{context}\n",
    "\n",
    "Question: {anonymized_question}\n",
    "\"\"\"\n",
    "\n",
    "prompt = PromptTemplate(template=template, input_variables=[\"question\"])\n",
    "\n",
    "\n",
    "#model = ChatOpenAI(temperature=0.3)\n",
    "\n",
    "\n",
    "_inputs = RunnableMap(\n",
    "    question=RunnablePassthrough(),\n",
    "    # It is important to remember about question anonymization\n",
    "    anonymized_question=RunnableLambda(anonymizer.anonymize),\n",
    ")\n",
    "\n",
    "anonymizer_chain = (\n",
    "    _inputs\n",
    "    | {\n",
    "        \"context\": itemgetter(\"anonymized_question\") | retriever,\n",
    "        \"anonymized_question\": itemgetter(\"anonymized_question\"),\n",
    "    }\n",
    "    | prompt\n",
    "    | get_chat_with_conversation\n",
    "    | StrOutputParser()\n",
    ")"
   ]
  },
  {
   "cell_type": "code",
   "execution_count": 26,
   "id": "eeb2701d",
   "metadata": {},
   "outputs": [
    {
     "name": "stderr",
     "output_type": "stream",
     "text": [
      "Number of requested results 4 is greater than number of elements in index 2, updating n_results = 2\n"
     ]
    },
    {
     "data": {
      "text/plain": [
       "\"The traveler lost his luggage at Port Matthew airport. \\n\\nThe necessary personal information of the traveler is as follows:\\n- Name: William Roman\\n- Contact information: \\n  - Phone number: +1-318-645-1462x70482\\n  - Email: ddavis@example.org\\n- Credit card number: 4672423884966\\n- Bank account number: GB29HDMI75255341928327\\n- Driver's license number: 966647391\\n- Social Security Number: 368-45-9892\""
      ]
     },
     "execution_count": 26,
     "metadata": {},
     "output_type": "execute_result"
    }
   ],
   "source": [
    "anonymizer_chain.invoke(\n",
    "    \"Where did the traveler lost his luggage can you retrieve the necessary personal information of the traveler and list them in seperate points ?\"\n",
    ")"
   ]
  },
  {
   "cell_type": "code",
   "execution_count": 27,
   "id": "ce81d91d",
   "metadata": {},
   "outputs": [],
   "source": [
    "# 7. Add deanonymization step to the chain\n",
    "chain_with_deanonymization = anonymizer_chain | RunnableLambda(anonymizer.deanonymize)"
   ]
  },
  {
   "cell_type": "markdown",
   "id": "3ab75259",
   "metadata": {},
   "source": [
    "<br>\n",
    "<img src=\"assets/QA2.png\" width=\"950\" align=\"center\">"
   ]
  },
  {
   "cell_type": "code",
   "execution_count": 28,
   "id": "633fe573",
   "metadata": {},
   "outputs": [
    {
     "name": "stderr",
     "output_type": "stream",
     "text": [
      "Number of requested results 4 is greater than number of elements in index 2, updating n_results = 2\n"
     ]
    },
    {
     "name": "stdout",
     "output_type": "stream",
     "text": [
      "The traveler lost his luggage at the Atlanta airport. The necessary personal information of the traveler includes the following:\n",
      "\n",
      "- Name: John Doe\n",
      "- Phone number: 999-888-7777\n",
      "- Email: johndoe@example.com\n",
      "- Credit card number: 4111 1111 1111 1111\n",
      "- Bank account number: PL61109010140000071219812874\n",
      "- Driver's license number: 999000680\n",
      "- Social Security Number: 602-76-4532\n"
     ]
    }
   ],
   "source": [
    "print(\n",
    "    chain_with_deanonymization.invoke(\n",
    "        \"Where did the travel lost his luggage can you retrieve the necessary personal information of the traveler and list them?\"\n",
    "    )\n",
    ")"
   ]
  },
  {
   "cell_type": "code",
   "execution_count": null,
   "id": "49cb5ef8",
   "metadata": {},
   "outputs": [],
   "source": []
  }
 ],
 "metadata": {
  "kernelspec": {
   "display_name": "Python 3 (ipykernel)",
   "language": "python",
   "name": "python3"
  },
  "language_info": {
   "codemirror_mode": {
    "name": "ipython",
    "version": 3
   },
   "file_extension": ".py",
   "mimetype": "text/x-python",
   "name": "python",
   "nbconvert_exporter": "python",
   "pygments_lexer": "ipython3",
   "version": "3.10.12"
  }
 },
 "nbformat": 4,
 "nbformat_minor": 5
}
